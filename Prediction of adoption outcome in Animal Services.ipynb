{
 "cells": [
  {
   "cell_type": "code",
   "execution_count": 1,
   "metadata": {},
   "outputs": [],
   "source": [
    "%matplotlib inline"
   ]
  },
  {
   "cell_type": "code",
   "execution_count": 2,
   "metadata": {},
   "outputs": [],
   "source": [
    "import numpy as np\n",
    "import pandas as pd\n",
    "import matplotlib.pyplot as plt\n",
    "import seaborn as sns\n",
    "import pickle\n",
    "\n",
    "from matplotlib import cm # colour map for pie chart\n",
    "from sklearn.model_selection import train_test_split, GridSearchCV, StratifiedKFold\n",
    "from sklearn.linear_model import LogisticRegression\n",
    "from sklearn.tree import DecisionTreeClassifier\n",
    "from sklearn.ensemble import RandomForestClassifier, AdaBoostClassifier\n",
    "from sklearn.svm import LinearSVC, SVC\n",
    "from sklearn.decomposition import PCA\n",
    "from sklearn.metrics import roc_curve, auc, precision_score, confusion_matrix, classification_report, f1_score, make_scorer, precision_recall_curve, average_precision_score\n",
    "from inspect import signature\n",
    "\n",
    "plt.style.use('seaborn')\n",
    "plt.rcParams.update({'figure.figsize': (10, 4)}) # Make figure size larger"
   ]
  },
  {
   "cell_type": "markdown",
   "metadata": {},
   "source": [
    "# Prediction of adoption outcome in Animal Services\n",
    "## Supervised binary classification models\n",
    "### Author: AnaStasiaS-S\n",
    "\n",
    "\n",
    "\n",
    "### Summary \n",
    "\n",
    "The purpose of this research is to predict weather the dog will be adopted from animal shelter using its characteristics (color, breed, gender, etc).\n",
    "\n",
    "\n",
    "\n",
    "### Introduction\n",
    "\n",
    "For the purposes of this research I took a dataset of [Louisville (KY, USA) Metro Open Data service](https://data.louisvilleky.gov/dataset/animal-service-intake-and-outcome) which provides data for the care and control of animals in the Louisville Metro area, USA. The dataset includes a list of all instances of animals brought into Animal Services with outcomes. \n",
    "\n",
    "We will read the data from csv file, clean it and make some exploratory data analysis. Afterwards we will train, tune and evaluate a few supervised machine learning algorithms: Logistic Regression, Trees and SVMs. \n",
    "\n",
    "\n",
    "\n",
    "\n",
    "# 1. Exploring Animal Services dataset\n",
    "\n",
    "\n",
    "#### Data dictionary:\n",
    "\n",
    "* Animal ID - A generated unique identification when an animal's information is stored in the Chameleon Data Base\n",
    "* Animal Type - Type of animal\n",
    "* Intake Date - The date that the animal arrives at Metro Animal Services\n",
    "* Intake Type - The reason the animal is at Metro Animal Services\n",
    "* Intake Subtype - A secondary but more in depth reason why the animal is at Metro Animal Services\n",
    "* Primary Color - The color that is most prevalent in the animal\n",
    "* Primary Breed - The breed of the animal or the breed the animal looks like the most\n",
    "* Secondary Breed - The other breed that the animal looks like\n",
    "* Gender - Sex of the animal\n",
    "* Secondary Color - A further description of the animal's color\n",
    "* DOB - The date of birth of the animal or an estimated date of birth\n",
    "* Intake Reason - The primary reason the animal is at Metro Animal Services\n",
    "* Outcome Date - The date the outcome is entered if no outcome date is available the animal is still in the shelter\n",
    "* Outcome Type - The type of outcome for the animal that can include returned to owner, adoption, sent to a rescue, etc.\n",
    "* Outcome Subtype - A secondary, more in depth definition of the outcome type (ex. Transfer, rescue group vs. Transfer, KHS)\n",
    "\n",
    "### 1.1 Reading and exploaring the data "
   ]
  },
  {
   "cell_type": "code",
   "execution_count": 3,
   "metadata": {},
   "outputs": [
    {
     "name": "stdout",
     "output_type": "stream",
     "text": [
      "<class 'pandas.core.frame.DataFrame'>\n",
      "RangeIndex: 150842 entries, 0 to 150841\n",
      "Data columns (total 22 columns):\n",
      "AnimalID                       150842 non-null object\n",
      "AnimalType                     150842 non-null object\n",
      "IntakeDate                     150842 non-null object\n",
      "IntakeType                     150842 non-null object\n",
      "IntakeSubtype                  146286 non-null object\n",
      "PrimaryColor                   150825 non-null object\n",
      "PrimaryBreed                   150842 non-null object\n",
      "SecondaryBreed                 40532 non-null object\n",
      "Gender                         150842 non-null object\n",
      "SecondaryColor                 80579 non-null object\n",
      "DOB                            94618 non-null object\n",
      "IntakeReason                   34805 non-null object\n",
      "IntakeInternalStatus           150842 non-null object\n",
      "IntakeAsilomarStatus           150842 non-null object\n",
      "ReproductiveStatusAtIntake     150842 non-null object\n",
      "OutcomeDate                    150640 non-null object\n",
      "OutcomeType                    150390 non-null object\n",
      "OutcomeSubtype                 123860 non-null object\n",
      "OutcomeReason                  0 non-null float64\n",
      "OutcomeInternalStatus          49721 non-null object\n",
      "OutcomeAsilomarStatus          150640 non-null object\n",
      "ReproductiveStatusAtOutcome    150640 non-null object\n",
      "dtypes: float64(1), object(21)\n",
      "memory usage: 25.3+ MB\n"
     ]
    }
   ],
   "source": [
    "animals_data = pd.read_csv(\"animal-service-intake-and-outcome.csv\")\n",
    "animals_data.info()"
   ]
  },
  {
   "cell_type": "code",
   "execution_count": 4,
   "metadata": {},
   "outputs": [
    {
     "data": {
      "text/html": [
       "<div>\n",
       "<style scoped>\n",
       "    .dataframe tbody tr th:only-of-type {\n",
       "        vertical-align: middle;\n",
       "    }\n",
       "\n",
       "    .dataframe tbody tr th {\n",
       "        vertical-align: top;\n",
       "    }\n",
       "\n",
       "    .dataframe thead th {\n",
       "        text-align: right;\n",
       "    }\n",
       "</style>\n",
       "<table border=\"1\" class=\"dataframe\">\n",
       "  <thead>\n",
       "    <tr style=\"text-align: right;\">\n",
       "      <th></th>\n",
       "      <th>AnimalID</th>\n",
       "      <th>AnimalType</th>\n",
       "      <th>IntakeDate</th>\n",
       "      <th>IntakeType</th>\n",
       "      <th>IntakeSubtype</th>\n",
       "      <th>PrimaryColor</th>\n",
       "      <th>PrimaryBreed</th>\n",
       "      <th>SecondaryBreed</th>\n",
       "      <th>Gender</th>\n",
       "      <th>SecondaryColor</th>\n",
       "      <th>...</th>\n",
       "      <th>IntakeInternalStatus</th>\n",
       "      <th>IntakeAsilomarStatus</th>\n",
       "      <th>ReproductiveStatusAtIntake</th>\n",
       "      <th>OutcomeDate</th>\n",
       "      <th>OutcomeType</th>\n",
       "      <th>OutcomeSubtype</th>\n",
       "      <th>OutcomeReason</th>\n",
       "      <th>OutcomeInternalStatus</th>\n",
       "      <th>OutcomeAsilomarStatus</th>\n",
       "      <th>ReproductiveStatusAtOutcome</th>\n",
       "    </tr>\n",
       "  </thead>\n",
       "  <tbody>\n",
       "    <tr>\n",
       "      <th>0</th>\n",
       "      <td>A366370</td>\n",
       "      <td>CAT</td>\n",
       "      <td>2008-11-07 10:50:00</td>\n",
       "      <td>STRAY</td>\n",
       "      <td>OTC</td>\n",
       "      <td>WHITE</td>\n",
       "      <td>DOMESTIC SHORTHAIR</td>\n",
       "      <td>NaN</td>\n",
       "      <td>NEUTERED MALE</td>\n",
       "      <td>BROWN</td>\n",
       "      <td>...</td>\n",
       "      <td>FEARFUL</td>\n",
       "      <td>HEALTHY</td>\n",
       "      <td>ALTERED</td>\n",
       "      <td>2008-11-12 15:46:00</td>\n",
       "      <td>EUTH</td>\n",
       "      <td>FERAL</td>\n",
       "      <td>NaN</td>\n",
       "      <td>NaN</td>\n",
       "      <td>UNHEALTHY/UNTREATABLE</td>\n",
       "      <td>ALTERED</td>\n",
       "    </tr>\n",
       "    <tr>\n",
       "      <th>1</th>\n",
       "      <td>A366531</td>\n",
       "      <td>CAT</td>\n",
       "      <td>2008-11-10 10:20:00</td>\n",
       "      <td>STRAY</td>\n",
       "      <td>OTC</td>\n",
       "      <td>BLACK</td>\n",
       "      <td>DOMESTIC SHORTHAIR</td>\n",
       "      <td>DOMESTIC SHORTHAIR</td>\n",
       "      <td>UNKNOWN</td>\n",
       "      <td>NaN</td>\n",
       "      <td>...</td>\n",
       "      <td>NORMAL</td>\n",
       "      <td>HEALTHY</td>\n",
       "      <td>UNKNOWN</td>\n",
       "      <td>2008-11-19 20:10:00</td>\n",
       "      <td>EUTH</td>\n",
       "      <td>CONTAG DIS</td>\n",
       "      <td>NaN</td>\n",
       "      <td>SICK</td>\n",
       "      <td>HEALTHY</td>\n",
       "      <td>UNKNOWN</td>\n",
       "    </tr>\n",
       "    <tr>\n",
       "      <th>2</th>\n",
       "      <td>A532367</td>\n",
       "      <td>BIRD</td>\n",
       "      <td>2014-07-23 23:21:00</td>\n",
       "      <td>CONFISCATE</td>\n",
       "      <td>CRUELTY</td>\n",
       "      <td>RED</td>\n",
       "      <td>CHICKEN</td>\n",
       "      <td>NaN</td>\n",
       "      <td>MALE</td>\n",
       "      <td>BLACK</td>\n",
       "      <td>...</td>\n",
       "      <td>OTHER</td>\n",
       "      <td>HEALTHY</td>\n",
       "      <td>FERTILE</td>\n",
       "      <td>2014-11-05 15:49:00</td>\n",
       "      <td>TRANSFER</td>\n",
       "      <td>NaN</td>\n",
       "      <td>NaN</td>\n",
       "      <td>NaN</td>\n",
       "      <td>HEALTHY</td>\n",
       "      <td>FERTILE</td>\n",
       "    </tr>\n",
       "    <tr>\n",
       "      <th>3</th>\n",
       "      <td>A532474</td>\n",
       "      <td>OTHER</td>\n",
       "      <td>2014-07-24 18:29:00</td>\n",
       "      <td>ET REQUEST</td>\n",
       "      <td>NaN</td>\n",
       "      <td>BROWN</td>\n",
       "      <td>BAT</td>\n",
       "      <td>NaN</td>\n",
       "      <td>UNKNOWN</td>\n",
       "      <td>NaN</td>\n",
       "      <td>...</td>\n",
       "      <td>OTHER</td>\n",
       "      <td>HEALTHY</td>\n",
       "      <td>UNKNOWN</td>\n",
       "      <td>2014-07-24 23:59:00</td>\n",
       "      <td>EUTH</td>\n",
       "      <td>MEDICAL</td>\n",
       "      <td>NaN</td>\n",
       "      <td>OTHER</td>\n",
       "      <td>HEALTHY</td>\n",
       "      <td>UNKNOWN</td>\n",
       "    </tr>\n",
       "    <tr>\n",
       "      <th>4</th>\n",
       "      <td>A281756</td>\n",
       "      <td>DOG</td>\n",
       "      <td>2006-09-11 18:10:00</td>\n",
       "      <td>OWNER SUR</td>\n",
       "      <td>OTC</td>\n",
       "      <td>WHITE</td>\n",
       "      <td>PIT BULL TERRIER</td>\n",
       "      <td>NaN</td>\n",
       "      <td>MALE</td>\n",
       "      <td>BROWN</td>\n",
       "      <td>...</td>\n",
       "      <td>NORMAL</td>\n",
       "      <td>HEALTHY</td>\n",
       "      <td>FERTILE</td>\n",
       "      <td>2006-09-12 13:44:00</td>\n",
       "      <td>EUTH</td>\n",
       "      <td>TIME/SPACE</td>\n",
       "      <td>NaN</td>\n",
       "      <td>NaN</td>\n",
       "      <td>HEALTHY</td>\n",
       "      <td>FERTILE</td>\n",
       "    </tr>\n",
       "  </tbody>\n",
       "</table>\n",
       "<p>5 rows × 22 columns</p>\n",
       "</div>"
      ],
      "text/plain": [
       "  AnimalID AnimalType           IntakeDate  IntakeType IntakeSubtype  \\\n",
       "0  A366370        CAT  2008-11-07 10:50:00       STRAY           OTC   \n",
       "1  A366531        CAT  2008-11-10 10:20:00       STRAY           OTC   \n",
       "2  A532367       BIRD  2014-07-23 23:21:00  CONFISCATE       CRUELTY   \n",
       "3  A532474      OTHER  2014-07-24 18:29:00  ET REQUEST           NaN   \n",
       "4  A281756        DOG  2006-09-11 18:10:00   OWNER SUR           OTC   \n",
       "\n",
       "  PrimaryColor        PrimaryBreed      SecondaryBreed         Gender  \\\n",
       "0        WHITE  DOMESTIC SHORTHAIR                 NaN  NEUTERED MALE   \n",
       "1        BLACK  DOMESTIC SHORTHAIR  DOMESTIC SHORTHAIR        UNKNOWN   \n",
       "2          RED             CHICKEN                 NaN           MALE   \n",
       "3        BROWN                 BAT                 NaN        UNKNOWN   \n",
       "4        WHITE    PIT BULL TERRIER                 NaN           MALE   \n",
       "\n",
       "  SecondaryColor  ... IntakeInternalStatus IntakeAsilomarStatus  \\\n",
       "0          BROWN  ...              FEARFUL              HEALTHY   \n",
       "1            NaN  ...               NORMAL              HEALTHY   \n",
       "2          BLACK  ...                OTHER              HEALTHY   \n",
       "3            NaN  ...                OTHER              HEALTHY   \n",
       "4          BROWN  ...               NORMAL              HEALTHY   \n",
       "\n",
       "  ReproductiveStatusAtIntake          OutcomeDate OutcomeType OutcomeSubtype  \\\n",
       "0                    ALTERED  2008-11-12 15:46:00        EUTH          FERAL   \n",
       "1                    UNKNOWN  2008-11-19 20:10:00        EUTH     CONTAG DIS   \n",
       "2                    FERTILE  2014-11-05 15:49:00    TRANSFER            NaN   \n",
       "3                    UNKNOWN  2014-07-24 23:59:00        EUTH        MEDICAL   \n",
       "4                    FERTILE  2006-09-12 13:44:00        EUTH     TIME/SPACE   \n",
       "\n",
       "  OutcomeReason OutcomeInternalStatus  OutcomeAsilomarStatus  \\\n",
       "0           NaN                   NaN  UNHEALTHY/UNTREATABLE   \n",
       "1           NaN                  SICK                HEALTHY   \n",
       "2           NaN                   NaN                HEALTHY   \n",
       "3           NaN                 OTHER                HEALTHY   \n",
       "4           NaN                   NaN                HEALTHY   \n",
       "\n",
       "  ReproductiveStatusAtOutcome  \n",
       "0                     ALTERED  \n",
       "1                     UNKNOWN  \n",
       "2                     FERTILE  \n",
       "3                     UNKNOWN  \n",
       "4                     FERTILE  \n",
       "\n",
       "[5 rows x 22 columns]"
      ]
     },
     "execution_count": 4,
     "metadata": {},
     "output_type": "execute_result"
    }
   ],
   "source": [
    "animals_data.head()"
   ]
  },
  {
   "cell_type": "markdown",
   "metadata": {},
   "source": [
    "### 1.2 Select only dogs animal type\n",
    "As the dataset includes data of different types of animals, let's see which one is most popular."
   ]
  },
  {
   "cell_type": "code",
   "execution_count": 5,
   "metadata": {},
   "outputs": [],
   "source": [
    "def my_autopct(pct):\n",
    "    '''\n",
    "    Condition removal labels.\n",
    "        \n",
    "    Returns:\n",
    "    - Floating-point number - labels the wedges with their numeric value\n",
    "    '''\n",
    "    return ('%1.1f%%' % pct) if pct > 1 else ''"
   ]
  },
  {
   "cell_type": "code",
   "execution_count": 6,
   "metadata": {},
   "outputs": [],
   "source": [
    "def pie(dataset, group_column, chart_title):\n",
    "    '''\n",
    "    Plot a pie chart of array x.\n",
    "    \n",
    "    Parameters:\n",
    "    - dataset (DataFrame)\n",
    "    - group_column (str)\n",
    "    - chart_title (str)\n",
    "    \n",
    "    Returns:\n",
    "    A pie chart\n",
    "    '''\n",
    "    categories = None\n",
    "    categories = dataset.groupby(group_column).size()\n",
    "    categories = categories.sort_values(ascending = False)\n",
    "    \n",
    "    # use colour map do avoid repeating colours\n",
    "    cs=cm.Set1(np.arange(9)/9.)\n",
    "    plt.pie(categories, autopct=my_autopct, radius=1.00, pctdistance=0.50, textprops={'fontsize': 15}, \n",
    "        explode = (0.07, 0.07, 0.07, 0.07, 0.07, 0.07, 0.07, 0.07, 0.07), colors=cs) \n",
    "    # Makes the plot look circular\n",
    "    plt.gca().set_aspect(\"equal\")\n",
    "    plt.title(chart_title, fontsize=20, loc=\"center\")\n",
    "    plt.legend(labels=categories.index, loc=\"center\", bbox_to_anchor=(1.8, 0.5), prop={'size': 14})\n",
    "    #plt.ticks().set_aspect(\"equal\")\n",
    "        \n",
    "    plt.show()"
   ]
  },
  {
   "cell_type": "code",
   "execution_count": 7,
   "metadata": {},
   "outputs": [
    {
     "data": {
      "image/png": "[encoded data removed]",
      "text/plain": [
       "<Figure size 720x288 with 1 Axes>"
      ]
     },
     "metadata": {},
     "output_type": "display_data"
    }
   ],
   "source": [
    "pie(animals_data, \"AnimalType\", \"Pet types\")"
   ]
  },
  {
   "cell_type": "code",
   "execution_count": 8,
   "metadata": {},
   "outputs": [],
   "source": [
    "# Take the dogs records as a largest animal group\n",
    "\n",
    "animals_data = animals_data[(animals_data.AnimalType == \"DOG\")]"
   ]
  },
  {
   "cell_type": "markdown",
   "metadata": {},
   "source": [
    "### 1.3 Feature selection and engineering\n",
    "As the purpose of this project is to classify **weather the pet will be adopted from animal shelter** we will keep only data concerning the pet characteristics as model features. Pet's age is an important one but this feature is only 60% fulfilled (includes register date instead of birth date in a large number of cases), that is why it will be dropped. Therefore the features will be:\n",
    "1. `PrimaryColor` as dog color;\n",
    "2. `PrimaryBreed` as dog breed;\n",
    "3. `Gender` as dog gender;\n",
    "4. `OutcomeAsilomarStatus` as health status;\n",
    "5. `OutcomeType` as a label column.\n",
    "\n",
    "The nest step is to explore each of these features."
   ]
  },
  {
   "cell_type": "code",
   "execution_count": 9,
   "metadata": {},
   "outputs": [],
   "source": [
    "# Select pet feature columns and make column names \"pythonic\":\n",
    "\n",
    "animals_data = animals_data[[\n",
    "    'PrimaryColor', \n",
    "    'PrimaryBreed', \n",
    "    'Gender',\n",
    "    'OutcomeAsilomarStatus',\n",
    "    'OutcomeType'\n",
    "]]\n",
    "\n",
    "# Rename columns\n",
    "\n",
    "animals_data.columns = ['color', 'breed', 'gender', 'health_status', 'outcome_type']"
   ]
  },
  {
   "cell_type": "code",
   "execution_count": 10,
   "metadata": {},
   "outputs": [
    {
     "data": {
      "text/html": [
       "<div>\n",
       "<style scoped>\n",
       "    .dataframe tbody tr th:only-of-type {\n",
       "        vertical-align: middle;\n",
       "    }\n",
       "\n",
       "    .dataframe tbody tr th {\n",
       "        vertical-align: top;\n",
       "    }\n",
       "\n",
       "    .dataframe thead th {\n",
       "        text-align: right;\n",
       "    }\n",
       "</style>\n",
       "<table border=\"1\" class=\"dataframe\">\n",
       "  <thead>\n",
       "    <tr style=\"text-align: right;\">\n",
       "      <th></th>\n",
       "      <th>color</th>\n",
       "      <th>breed</th>\n",
       "      <th>gender</th>\n",
       "      <th>health_status</th>\n",
       "      <th>outcome_type</th>\n",
       "    </tr>\n",
       "  </thead>\n",
       "  <tbody>\n",
       "    <tr>\n",
       "      <th>4</th>\n",
       "      <td>WHITE</td>\n",
       "      <td>PIT BULL TERRIER</td>\n",
       "      <td>MALE</td>\n",
       "      <td>HEALTHY</td>\n",
       "      <td>EUTH</td>\n",
       "    </tr>\n",
       "    <tr>\n",
       "      <th>6</th>\n",
       "      <td>BROWN</td>\n",
       "      <td>AMERICAN PIT BULL TERRIER</td>\n",
       "      <td>MALE</td>\n",
       "      <td>HEALTHY</td>\n",
       "      <td>EUTH</td>\n",
       "    </tr>\n",
       "    <tr>\n",
       "      <th>8</th>\n",
       "      <td>WHITE</td>\n",
       "      <td>LABRADOR RETRIEVER</td>\n",
       "      <td>MALE</td>\n",
       "      <td>HEALTHY</td>\n",
       "      <td>EUTH</td>\n",
       "    </tr>\n",
       "    <tr>\n",
       "      <th>15</th>\n",
       "      <td>TRICOLOR</td>\n",
       "      <td>BEAGLE</td>\n",
       "      <td>NEUTERED MALE</td>\n",
       "      <td>HEALTHY</td>\n",
       "      <td>EUTH</td>\n",
       "    </tr>\n",
       "    <tr>\n",
       "      <th>17</th>\n",
       "      <td>WHITE</td>\n",
       "      <td>PIT BULL TERRIER</td>\n",
       "      <td>MALE</td>\n",
       "      <td>HEALTHY</td>\n",
       "      <td>EUTH</td>\n",
       "    </tr>\n",
       "  </tbody>\n",
       "</table>\n",
       "</div>"
      ],
      "text/plain": [
       "       color                      breed         gender health_status  \\\n",
       "4      WHITE           PIT BULL TERRIER           MALE       HEALTHY   \n",
       "6      BROWN  AMERICAN PIT BULL TERRIER           MALE       HEALTHY   \n",
       "8      WHITE         LABRADOR RETRIEVER           MALE       HEALTHY   \n",
       "15  TRICOLOR                     BEAGLE  NEUTERED MALE       HEALTHY   \n",
       "17     WHITE           PIT BULL TERRIER           MALE       HEALTHY   \n",
       "\n",
       "   outcome_type  \n",
       "4          EUTH  \n",
       "6          EUTH  \n",
       "8          EUTH  \n",
       "15         EUTH  \n",
       "17         EUTH  "
      ]
     },
     "execution_count": 10,
     "metadata": {},
     "output_type": "execute_result"
    }
   ],
   "source": [
    "# See the result dataset\n",
    "\n",
    "animals_data.head()"
   ]
  },
  {
   "cell_type": "code",
   "execution_count": 11,
   "metadata": {},
   "outputs": [
    {
     "name": "stdout",
     "output_type": "stream",
     "text": [
      "<class 'pandas.core.frame.DataFrame'>\n",
      "Int64Index: 77145 entries, 4 to 150839\n",
      "Data columns (total 5 columns):\n",
      "color            77131 non-null object\n",
      "breed            77145 non-null object\n",
      "gender           77145 non-null object\n",
      "health_status    77008 non-null object\n",
      "outcome_type     76905 non-null object\n",
      "dtypes: object(5)\n",
      "memory usage: 3.5+ MB\n"
     ]
    }
   ],
   "source": [
    "animals_data.info()"
   ]
  },
  {
   "cell_type": "markdown",
   "metadata": {},
   "source": [
    "As seen the dataset has 77145 records with a little number of null values, which will be removed. Afterwards we will explore and clean each column one by one. "
   ]
  },
  {
   "cell_type": "code",
   "execution_count": 12,
   "metadata": {},
   "outputs": [
    {
     "data": {
      "text/plain": [
       "75700"
      ]
     },
     "execution_count": 12,
     "metadata": {},
     "output_type": "execute_result"
    }
   ],
   "source": [
    "# Drop the rows where at least one element is missing and UKNOWN values. Check the final number of records:\n",
    "\n",
    "animals_data.dropna(inplace = True)\n",
    "animals_data = animals_data[(animals_data != 'UNKNOWN').all(axis=1)]\n",
    "animals_data.breed.size"
   ]
  },
  {
   "cell_type": "markdown",
   "metadata": {},
   "source": [
    "### 1.4 Explore pet color column\n",
    "\n",
    "Here are the most common pet color types:"
   ]
  },
  {
   "cell_type": "code",
   "execution_count": 13,
   "metadata": {},
   "outputs": [],
   "source": [
    "def barh(dataset, group_column, chart_title, xlabel_title):\n",
    "    categories = None\n",
    "    chart_by_category = None\n",
    "    '''\n",
    "    Draw horizontal bar chart for first 15 grouped values of selected column\n",
    "    \n",
    "    Parameters:\n",
    "    - dataset (DataFrame) \n",
    "    - group_column (str)\n",
    "    - chart_title (str)\n",
    "    - xlabel_title (str)\n",
    "    \n",
    "    Returns:\n",
    "    horizontal bar chart\n",
    "    '''\n",
    "    categories = dataset.groupby(group_column).size()\n",
    "    categories = categories.sort_values().tail(15)\n",
    "    \n",
    "    y_pos = np.arange(len(categories.index))\n",
    "    chart_by_category = plt.barh(y_pos,categories)\n",
    "    plt.xlabel(xlabel_title, fontsize=13)\n",
    "    plt.yticks(y_pos, categories.index, fontsize=10)\n",
    "    plt.title(chart_title, fontsize = 20)\n",
    "    plt.show()"
   ]
  },
  {
   "cell_type": "code",
   "execution_count": 14,
   "metadata": {},
   "outputs": [
    {
     "data": {
      "image/png": "[encoded data removed]",
      "text/plain": [
       "<Figure size 720x288 with 1 Axes>"
      ]
     },
     "metadata": {},
     "output_type": "display_data"
    }
   ],
   "source": [
    "barh(animals_data, 'color', 'Popular pet colors', 'Number')"
   ]
  },
  {
   "cell_type": "code",
   "execution_count": 15,
   "metadata": {},
   "outputs": [
    {
     "data": {
      "text/plain": [
       "array(['WHITE', 'BROWN', 'TRICOLOR', 'BROWN BRINDLE', 'TAN', 'BLACK',\n",
       "       'RED', 'CHOCOLATE', 'CREAM', 'BLUE MERLE', 'FAWN', 'YELLOW',\n",
       "       'GRAY', 'BLACK BRINDLE', 'LIVER', 'BLUE', 'BUFF', 'GOLD',\n",
       "       'BROWN MERLE', 'PINK', 'SILVER', 'SABLE', 'BLUE CREAM',\n",
       "       'BLUE TIGER', 'APRICOT', 'RED MERLE', 'BLONDE', 'BRINDLE',\n",
       "       'BLACK TIGER', 'BROWN TIGER', 'BEIGE', 'YELLOW BRINDLE',\n",
       "       'BLACK SMOKE', 'ORANGE', 'BLUE TICKED', 'CREAM TIGER', 'CHAMPAIGN',\n",
       "       'RUDDY', 'TORTIE POINT', 'SEAL POINT', 'RED TICKED', 'BLUE SMOKE',\n",
       "       'MERLE', 'BROWN TABBY', 'ORANGE TIGER', 'GRAY TIGER'], dtype=object)"
      ]
     },
     "execution_count": 15,
     "metadata": {},
     "output_type": "execute_result"
    }
   ],
   "source": [
    "animals_data.color.unique()"
   ]
  },
  {
   "cell_type": "markdown",
   "metadata": {},
   "source": [
    "As seen, most popular are pets with black color. On the other hand, there are many colors that repeat in different kind of variations, I will group them into several major groups: \"BLACK\", \"WHITE\", \"BLUE\", \"GRAY\", \"BEIGE\", \"BROWN\", \"ORANGE\", \"YELLOW\", \"RED\", \"PURPLE\", \"MULTICOLOR\". So all the color variations shown below would be roughly grouped into \"MULTICOLOR\" (even if they are two-color or tortoise):"
   ]
  },
  {
   "cell_type": "markdown",
   "metadata": {},
   "source": [
    "![color](tortie-varieties-cats.jpg \"COLORS\")"
   ]
  },
  {
   "cell_type": "code",
   "execution_count": 16,
   "metadata": {},
   "outputs": [],
   "source": [
    "# Rename colours\n",
    "# !!! REMOVE unnecasary\n",
    "\n",
    "# animals_data.color.replace({\n",
    "#     'BROWN TABBY': 'BROWN', \n",
    "#     'BLACK TIGER': 'BLACK',\n",
    "#     'BROWN BRINDLE': 'BROWN',\n",
    "#     'TAN': 'BROWN',\n",
    "#     'CALICO':'MULTICOLOR',\n",
    "#     'GRAY TIGER':'GRAY',\n",
    "#     'TORTIE':'MULTICOLOR',\n",
    "#     'CHOCOLATE':'BROWN',\n",
    "#     'GRAY TABBY':'GRAY',\n",
    "#     'BUFF':'BROWN',\n",
    "#     'CREAM':'BEIGE',\n",
    "#     'ORANGE TIGER':'ORANGE',\n",
    "#     'ORANGE TABBY':'ORANGE',\n",
    "#     'BLUE MERLE':'BLUE',\n",
    "#     'SILVER TIGER':'GRAY',\n",
    "#     'BROWN TIGER':'BROWN',\n",
    "#     'BLACK TABBY':'BLACK',\n",
    "#     'FAWN':'YELLOW',\n",
    "#     'CHOCOLATE POINT':'BROWN',\n",
    "#     'BLACK BRINDLE':'BLACK',\n",
    "#     'LYNX POINT':'CREAM',\n",
    "#     'LIVER':'BROWN',\n",
    "#     'BLACK SMOKE':'BLACK',\n",
    "#     'SILVER TABBY':'GRAY',\n",
    "#     'FLAME POINT':'YELLOW',\n",
    "#     'GOLD':'YELLOW',\n",
    "#     'BROWN MERLE':'BROWN',\n",
    "#     'PINK':'BEIGE',\n",
    "#     'SEAL POINT':'BEIGE',\n",
    "#     'SABLE':'MULTICOLOR',\n",
    "#     'CREAM TABBY':'BEIGE',\n",
    "#     'APRICOT':'YELLOW',\n",
    "#     'BLUE CREAM':'BLUE',\n",
    "#     'SILVER LYNX POINT':'GRAY',\n",
    "#     'CALICO POINT':'MULTICOLOR',\n",
    "#     'BLUE TIGER':'BLUE',\n",
    "#     'LILAC POINT':'BEIGE',\n",
    "#     'BLUE POINT':'BLUE',\n",
    "#     'TORTIE POINT':'MULTICOLOR',\n",
    "#     'RED MERLE':'RED',\n",
    "#     'BLONDE':'BEIGE',\n",
    "#     'BRINDLE':'MULTICOLOR',\n",
    "#     'BLUE TABBY':'BLUE',\n",
    "#     'CREAM TIGER':'BEIGE',\n",
    "#     'YELLOW BRINDLE':'YELLOW',\n",
    "#     'BLUE SMOKE':'BLUE',\n",
    "#     'BLUE TICKED':'BLUE',\n",
    "#     'CHAMPAIGN':'BEIGE',\n",
    "#     'RUDDY':'RED',\n",
    "#     'MAHOGANY':'BROWN',\n",
    "#     'RED TICKED':'RED',\n",
    "#     'TABBY':'MULTICOLOR',\n",
    "#     'TORTI':'MULTICOLOR',\n",
    "#     'MERLE':'MULTICOLOR',\n",
    "#     'GREEN':'MULTICOLOR',\n",
    "#     'TRICOLOR':'MULTICOLOR',\n",
    "#     'CREAM': 'BEIGE',\n",
    "#     'SILVER':'GRAY'\n",
    "# }, inplace = True)"
   ]
  },
  {
   "cell_type": "code",
   "execution_count": 17,
   "metadata": {},
   "outputs": [
    {
     "data": {
      "text/plain": [
       "array(['WHITE', 'BROWN', 'TRICOLOR', 'BROWN BRINDLE', 'TAN', 'BLACK',\n",
       "       'RED', 'CHOCOLATE', 'CREAM', 'BLUE MERLE', 'FAWN', 'YELLOW',\n",
       "       'GRAY', 'BLACK BRINDLE', 'LIVER', 'BLUE', 'BUFF', 'GOLD',\n",
       "       'BROWN MERLE', 'PINK', 'SILVER', 'SABLE', 'BLUE CREAM',\n",
       "       'BLUE TIGER', 'APRICOT', 'RED MERLE', 'BLONDE', 'BRINDLE',\n",
       "       'BLACK TIGER', 'BROWN TIGER', 'BEIGE', 'YELLOW BRINDLE',\n",
       "       'BLACK SMOKE', 'ORANGE', 'BLUE TICKED', 'CREAM TIGER', 'CHAMPAIGN',\n",
       "       'RUDDY', 'TORTIE POINT', 'SEAL POINT', 'RED TICKED', 'BLUE SMOKE',\n",
       "       'MERLE', 'BROWN TABBY', 'ORANGE TIGER', 'GRAY TIGER'], dtype=object)"
      ]
     },
     "execution_count": 17,
     "metadata": {},
     "output_type": "execute_result"
    }
   ],
   "source": [
    "# Check if all the colours were grouped properly:\n",
    "\n",
    "animals_data.color.unique()"
   ]
  },
  {
   "cell_type": "markdown",
   "metadata": {},
   "source": [
    "### 1.5 Explore breed feature"
   ]
  },
  {
   "cell_type": "code",
   "execution_count": 18,
   "metadata": {},
   "outputs": [
    {
     "data": {
      "text/plain": [
       "211"
      ]
     },
     "execution_count": 18,
     "metadata": {},
     "output_type": "execute_result"
    }
   ],
   "source": [
    "# Count unique items in breed column:\n",
    "\n",
    "animals_data.breed.nunique()"
   ]
  },
  {
   "cell_type": "markdown",
   "metadata": {},
   "source": [
    "![lion dog]( lion-dog.jpg)"
   ]
  },
  {
   "cell_type": "markdown",
   "metadata": {},
   "source": [
    "As seen there are more than 211 of different dog breeds included in the dataset. Let's keep all of them as an important pet characteristic."
   ]
  },
  {
   "cell_type": "code",
   "execution_count": 19,
   "metadata": {},
   "outputs": [],
   "source": [
    "# Group breeds to 2 groups\n",
    "\n",
    "#animals_data.breed.replace(regex=[r'.*MIX.*', r'.*DOMESTIC.*'], value='MIXED-BREED', inplace=True)\n",
    "#animals_data.breed.replace(regex=[r'^(?!.*MIXED-BREED).*$'], value='BREED', inplace=True)"
   ]
  },
  {
   "cell_type": "code",
   "execution_count": 20,
   "metadata": {},
   "outputs": [],
   "source": [
    "#animals_data.head()"
   ]
  },
  {
   "cell_type": "markdown",
   "metadata": {},
   "source": [
    "### 1.6 Explore gender and health status\n",
    "\n",
    "**Gender** column holds more than just male/female values. There are also `NEUTERED MALE`, `SPAYED FEMALE` and `LITTER`, which are important pet characteristics."
   ]
  },
  {
   "cell_type": "code",
   "execution_count": 21,
   "metadata": {},
   "outputs": [
    {
     "data": {
      "text/plain": [
       "array(['MALE', 'NEUTERED MALE', 'FEMALE', 'SPAYED FEMALE', 'LITTER'],\n",
       "      dtype=object)"
      ]
     },
     "execution_count": 21,
     "metadata": {},
     "output_type": "execute_result"
    }
   ],
   "source": [
    "# Unique items in gender and health_status column:\n",
    "\n",
    "animals_data.gender.unique()"
   ]
  },
  {
   "cell_type": "code",
   "execution_count": 22,
   "metadata": {},
   "outputs": [
    {
     "data": {
      "text/plain": [
       "gender\n",
       "FEMALE           16385\n",
       "LITTER              71\n",
       "MALE             19287\n",
       "NEUTERED MALE    22084\n",
       "SPAYED FEMALE    17873\n",
       "dtype: int64"
      ]
     },
     "execution_count": 22,
     "metadata": {},
     "output_type": "execute_result"
    }
   ],
   "source": [
    "# Check the size of each group\n",
    "\n",
    "animals_data.groupby(animals_data.gender).size()"
   ]
  },
  {
   "cell_type": "markdown",
   "metadata": {},
   "source": [
    "Pets **health status** is also an important feature as animals in good health should have a higher chance to be adopted. This column has three values as seen:"
   ]
  },
  {
   "cell_type": "code",
   "execution_count": 23,
   "metadata": {},
   "outputs": [
    {
     "data": {
      "text/plain": [
       "array(['HEALTHY', 'UNHEALTHY/UNTREATABLE', 'TREATABLE/MANAGEABLE'],\n",
       "      dtype=object)"
      ]
     },
     "execution_count": 23,
     "metadata": {},
     "output_type": "execute_result"
    }
   ],
   "source": [
    "# Unique items in health_status column:\n",
    "\n",
    "animals_data.health_status.unique()"
   ]
  },
  {
   "cell_type": "markdown",
   "metadata": {},
   "source": [
    "We will keep all five groups.\n",
    "\n",
    "### 1.7 Explore outcome type label"
   ]
  },
  {
   "cell_type": "code",
   "execution_count": 24,
   "metadata": {},
   "outputs": [
    {
     "data": {
      "image/png": "[encoded data removed]",
      "text/plain": [
       "<Figure size 720x288 with 1 Axes>"
      ]
     },
     "metadata": {},
     "output_type": "display_data"
    }
   ],
   "source": [
    "barh(animals_data, 'outcome_type', 'Outcome types', 'Number')"
   ]
  },
  {
   "cell_type": "markdown",
   "metadata": {},
   "source": [
    "As we are interested mostly into **adopted** pets, our problem can be adjusted to binary or two-class classification where the label which holds the most interesting output for us will get value **1** and all others - **0**."
   ]
  },
  {
   "cell_type": "code",
   "execution_count": 25,
   "metadata": {},
   "outputs": [
    {
     "data": {
      "text/plain": [
       "outcome_type\n",
       "EUTH          29259\n",
       "ADOPTION      15363\n",
       "RTO           13126\n",
       "TRANSFER      10429\n",
       "RELEASED       2623\n",
       "TRANSPORT      1558\n",
       "DISPOSAL       1060\n",
       "FOSTER         1029\n",
       "DIED            640\n",
       "MISSING         483\n",
       "RELOCATE         54\n",
       "NO SHOW          34\n",
       "ET PROCESS       29\n",
       "RELEASE           5\n",
       "RTF               5\n",
       "MISSING EX        2\n",
       "INDEFINITE        1\n",
       "dtype: int64"
      ]
     },
     "execution_count": 25,
     "metadata": {},
     "output_type": "execute_result"
    }
   ],
   "source": [
    "# Groups size in numbers\n",
    "\n",
    "animals_data.groupby(animals_data.outcome_type).size().sort_values(ascending = False)"
   ]
  },
  {
   "cell_type": "code",
   "execution_count": 26,
   "metadata": {},
   "outputs": [],
   "source": [
    "# Group outcome types\n",
    "\n",
    "animals_data.outcome_type.replace(to_replace='ADOPTION', value=1, inplace=True)\n",
    "animals_data.outcome_type.replace(regex=[r'^(?!.*ADOPTION).*$'], value=0, inplace=True)"
   ]
  },
  {
   "cell_type": "code",
   "execution_count": 27,
   "metadata": {},
   "outputs": [
    {
     "data": {
      "image/png": "[encoded data removed]",
      "text/plain": [
       "<Figure size 720x288 with 1 Axes>"
      ]
     },
     "metadata": {},
     "output_type": "display_data"
    },
    {
     "name": "stdout",
     "output_type": "stream",
     "text": [
      "Positive cases: 20.3% of all\n"
     ]
    }
   ],
   "source": [
    "# Ratio of two grouped labels in percents\n",
    "\n",
    "plt.bar([0, 1], [len(animals_data[animals_data.outcome_type == 0]), len(animals_data[animals_data.outcome_type == 1])])\n",
    "plt.title(\"Ratio of two grouped labels in percents\")\n",
    "plt.xticks([0, 1])\n",
    "plt.xlabel(\"Class\")\n",
    "plt.ylabel(\"Count\")\n",
    "plt.show()\n",
    "\n",
    "print(\"Positive cases: {:.1f}% of all\".format(animals_data.outcome_type.sum() / len(animals_data.outcome_type) * 100))"
   ]
  },
  {
   "cell_type": "markdown",
   "metadata": {},
   "source": [
    "As seen we have **highly imbalanced** two label groups which should be taken into consideration for data split and model metrics. \n",
    "\n",
    "Now when the dataset is more or less clean, we will train and compare a few supervised machine learning classifiers.\n",
    "\n",
    "# 2. Training, tuning and comparing classification algorithms\n",
    "\n",
    "### 2.1 Preprocess the data\n",
    "\n",
    "First step is to separate explanatory features from labels and get indicator variables. "
   ]
  },
  {
   "cell_type": "code",
   "execution_count": 28,
   "metadata": {},
   "outputs": [],
   "source": [
    "# Separate features and labels\n",
    "\n",
    "features = animals_data.drop(\"outcome_type\", axis = 1)\n",
    "labels = animals_data.outcome_type"
   ]
  },
  {
   "cell_type": "code",
   "execution_count": 29,
   "metadata": {},
   "outputs": [],
   "source": [
    "# Get indicator variables\n",
    "\n",
    "features = pd.get_dummies(features)"
   ]
  },
  {
   "cell_type": "code",
   "execution_count": 30,
   "metadata": {},
   "outputs": [
    {
     "data": {
      "text/plain": [
       "(75700, 265)"
      ]
     },
     "execution_count": 30,
     "metadata": {},
     "output_type": "execute_result"
    }
   ],
   "source": [
    "features.shape"
   ]
  },
  {
   "cell_type": "markdown",
   "metadata": {},
   "source": [
    "There are more than 200 features. We will remove misleading data and noise by decreasing the number of features using Principal Component Analisys (PCA), which should result in increased accuracy and reduce the training time for classifiers. \n",
    "\n",
    "#### Choose the number of components in a **PCA**"
   ]
  },
  {
   "cell_type": "code",
   "execution_count": 31,
   "metadata": {},
   "outputs": [],
   "source": [
    "#Fitting the PCA algorithm with our data\n",
    "\n",
    "pca = PCA().fit(features)"
   ]
  },
  {
   "cell_type": "code",
   "execution_count": 32,
   "metadata": {},
   "outputs": [
    {
     "data": {
      "image/png": "[encoded data removed]",
      "text/plain": [
       "<Figure size 720x288 with 1 Axes>"
      ]
     },
     "metadata": {},
     "output_type": "display_data"
    }
   ],
   "source": [
    "#Plotting the Cumulative Summation of the Explained Variance\n",
    "\n",
    "plt.figure()\n",
    "plt.plot(np.cumsum(pca.explained_variance_ratio_))\n",
    "plt.xlabel('Number of Components')\n",
    "plt.ylabel('Variance (%)') #for each component\n",
    "plt.title('Animal Dataset Explained Variance')\n",
    "plt.show()"
   ]
  },
  {
   "cell_type": "markdown",
   "metadata": {},
   "source": [
    "The plot tells us that selecting **100 features** of animal dataset will preserve around 98% variance of the data. We will use this number as a number of components for PCA."
   ]
  },
  {
   "cell_type": "code",
   "execution_count": 33,
   "metadata": {},
   "outputs": [],
   "source": [
    "# Implement PCA with the defined number of components\n",
    "\n",
    "pca = PCA(n_components=100)\n",
    "features = pca.fit_transform(features)"
   ]
  },
  {
   "cell_type": "code",
   "execution_count": 34,
   "metadata": {},
   "outputs": [
    {
     "data": {
      "text/plain": [
       "(75700, 100)"
      ]
     },
     "execution_count": 34,
     "metadata": {},
     "output_type": "execute_result"
    }
   ],
   "source": [
    "# The shape of resulting dataset\n",
    "\n",
    "features.shape"
   ]
  },
  {
   "cell_type": "markdown",
   "metadata": {},
   "source": [
    "### 2.2 Split the data\n",
    "\n",
    "The next step is to split the data into training and testing set, with 70% of the data for training. Because the output labels are not equaly distributed, we will use the **stratification** based on the `labels`."
   ]
  },
  {
   "cell_type": "code",
   "execution_count": 35,
   "metadata": {},
   "outputs": [],
   "source": [
    "# Split train and test data\n",
    "\n",
    "features_train, features_test, labels_train, labels_test = train_test_split(features, labels, stratify=labels, test_size = 0.2, train_size=0.8)"
   ]
  },
  {
   "cell_type": "code",
   "execution_count": 36,
   "metadata": {},
   "outputs": [
    {
     "data": {
      "text/plain": [
       "((60560, 100), (60560,))"
      ]
     },
     "execution_count": 36,
     "metadata": {},
     "output_type": "execute_result"
    }
   ],
   "source": [
    "# Check the shapes of train data\n",
    "\n",
    "features_train.shape, labels_train.shape"
   ]
  },
  {
   "cell_type": "code",
   "execution_count": 37,
   "metadata": {},
   "outputs": [
    {
     "data": {
      "text/plain": [
       "((15140, 100), (15140,))"
      ]
     },
     "execution_count": 37,
     "metadata": {},
     "output_type": "execute_result"
    }
   ],
   "source": [
    "# Check the shapes of test data\n",
    "\n",
    "features_test.shape, labels_test.shape"
   ]
  },
  {
   "cell_type": "markdown",
   "metadata": {},
   "source": [
    "### 2.3 Train a logistic regression classifier\n",
    "\n",
    "First of all we will see a baseline score of the model with its **default hyperparameters**:\n",
    "* `C = 1`\n",
    "* `max_iter=100`\n",
    "* `fit_intercept=True`\n",
    "\n",
    "Afterwards the model will be evaluated by precision and recall metrics. Then we will tune the hyperparameters and evaluate its perfomance once again."
   ]
  },
  {
   "cell_type": "code",
   "execution_count": 38,
   "metadata": {},
   "outputs": [
    {
     "name": "stderr",
     "output_type": "stream",
     "text": [
      "C:\\Users\\anastasiy.slavova\\AppData\\Local\\Continuum\\anaconda3\\lib\\site-packages\\sklearn\\linear_model\\logistic.py:432: FutureWarning: Default solver will be changed to 'lbfgs' in 0.22. Specify a solver to silence this warning.\n",
      "  FutureWarning)\n"
     ]
    },
    {
     "data": {
      "text/plain": [
       "0.7985138705416116"
      ]
     },
     "execution_count": 38,
     "metadata": {},
     "output_type": "execute_result"
    }
   ],
   "source": [
    "# Train logistic regression classifier with default hyperparameters\n",
    "\n",
    "model = LogisticRegression()\n",
    "model.fit(features_train,labels_train)\n",
    "labels_pred_train = model.predict(features_train)\n",
    "labels_pred_test = model.predict(features_test)\n",
    "\n",
    "# Baseline accuracy score of the trained model\n",
    "\n",
    "model.score(features_train,labels_train)"
   ]
  },
  {
   "cell_type": "code",
   "execution_count": 39,
   "metadata": {},
   "outputs": [
    {
     "data": {
      "text/plain": [
       "0.1419127988748242"
      ]
     },
     "execution_count": 39,
     "metadata": {},
     "output_type": "execute_result"
    }
   ],
   "source": [
    "# F1_score of trained data\n",
    "\n",
    "f1_score(labels_train, labels_pred_train, pos_label = 1)"
   ]
  },
  {
   "cell_type": "code",
   "execution_count": 40,
   "metadata": {},
   "outputs": [
    {
     "data": {
      "text/plain": [
       "0.13423959218351741"
      ]
     },
     "execution_count": 40,
     "metadata": {},
     "output_type": "execute_result"
    }
   ],
   "source": [
    "# F1_score of test data\n",
    "\n",
    "f1_score(labels_test, labels_pred_test, pos_label = 1)"
   ]
  },
  {
   "cell_type": "markdown",
   "metadata": {},
   "source": [
    "As seen **accuracy score** which doesn't render an account of label balance is good but the right metrics which should be used in our case is **hamornic score** which is the harmonic mean of the precision and recall. "
   ]
  },
  {
   "cell_type": "code",
   "execution_count": 41,
   "metadata": {},
   "outputs": [
    {
     "data": {
      "text/plain": [
       "array([[11846,   221],\n",
       "       [ 2836,   237]], dtype=int64)"
      ]
     },
     "execution_count": 41,
     "metadata": {},
     "output_type": "execute_result"
    }
   ],
   "source": [
    "# Confusion matrix\n",
    "\n",
    "confusion_matrix(labels_test,labels_pred_test)"
   ]
  },
  {
   "cell_type": "code",
   "execution_count": 42,
   "metadata": {},
   "outputs": [
    {
     "name": "stdout",
     "output_type": "stream",
     "text": [
      "              precision    recall  f1-score   support\n",
      "\n",
      "           0       0.81      0.98      0.89     12067\n",
      "           1       0.52      0.08      0.13      3073\n",
      "\n",
      "    accuracy                           0.80     15140\n",
      "   macro avg       0.66      0.53      0.51     15140\n",
      "weighted avg       0.75      0.80      0.73     15140\n",
      "\n"
     ]
    }
   ],
   "source": [
    "# Classification report\n",
    "\n",
    "print(classification_report(labels_test,labels_pred_test))"
   ]
  },
  {
   "cell_type": "markdown",
   "metadata": {},
   "source": [
    "Baseline model has poor perfomance on positive class which we are insterested in. The reason here would be probably a low number of samples of positive class. We will do random over-sampling of minority class to increase the model perfomance."
   ]
  },
  {
   "cell_type": "markdown",
   "metadata": {},
   "source": [
    "### Over-sampling"
   ]
  },
  {
   "cell_type": "code",
   "execution_count": 43,
   "metadata": {},
   "outputs": [
    {
     "data": {
      "text/plain": [
       "(60337, 15363)"
      ]
     },
     "execution_count": 43,
     "metadata": {},
     "output_type": "execute_result"
    }
   ],
   "source": [
    "# Class count\n",
    "\n",
    "count_class_0, count_class_1 = animals_data.outcome_type.value_counts()\n",
    "count_class_0, count_class_1"
   ]
  },
  {
   "cell_type": "code",
   "execution_count": 44,
   "metadata": {},
   "outputs": [],
   "source": [
    "# Divide by class\n",
    "\n",
    "class_0 = animals_data[animals_data['outcome_type'] == 0]\n",
    "class_1 = animals_data[animals_data['outcome_type'] == 1]"
   ]
  },
  {
   "cell_type": "code",
   "execution_count": 45,
   "metadata": {},
   "outputs": [],
   "source": [
    "# Random over-sampling of minority class\n",
    "\n",
    "class_1_oversample = class_1.sample(count_class_0, replace=True)\n",
    "animals_data = pd.concat([class_0, class_1_oversample], axis=0)"
   ]
  },
  {
   "cell_type": "code",
   "execution_count": 46,
   "metadata": {},
   "outputs": [
    {
     "data": {
      "image/png": "[encoded data removed]",
      "text/plain": [
       "<Figure size 720x288 with 1 Axes>"
      ]
     },
     "metadata": {},
     "output_type": "display_data"
    },
    {
     "name": "stdout",
     "output_type": "stream",
     "text": [
      "Positive cases: 50.0% of all\n"
     ]
    }
   ],
   "source": [
    "# Ratio of two grouped labels in percents\n",
    "\n",
    "plt.bar([0, 1], [len(animals_data[animals_data.outcome_type == 0]), len(animals_data[animals_data.outcome_type == 1])])\n",
    "plt.title(\"Ratio of two grouped labels in percents\")\n",
    "plt.xticks([0, 1])\n",
    "plt.xlabel(\"Class\")\n",
    "plt.ylabel(\"Count\")\n",
    "plt.show()\n",
    "\n",
    "print(\"Positive cases: {:.1f}% of all\".format(animals_data.outcome_type.sum() / len(animals_data.outcome_type) * 100))"
   ]
  },
  {
   "cell_type": "markdown",
   "metadata": {},
   "source": [
    "Now when the data is perfectly balanced, we proceed with logictic baseline model once again and will compare the scores to imbalanced model."
   ]
  },
  {
   "cell_type": "code",
   "execution_count": 47,
   "metadata": {},
   "outputs": [],
   "source": [
    "# Separate features and labels\n",
    "\n",
    "features = animals_data.drop(\"outcome_type\", axis = 1)\n",
    "labels = animals_data.outcome_type"
   ]
  },
  {
   "cell_type": "code",
   "execution_count": 48,
   "metadata": {},
   "outputs": [
    {
     "data": {
      "text/plain": [
       "(120674, 265)"
      ]
     },
     "execution_count": 48,
     "metadata": {},
     "output_type": "execute_result"
    }
   ],
   "source": [
    "# Get indicator variables\n",
    "\n",
    "features = pd.get_dummies(features)\n",
    "features.shape"
   ]
  },
  {
   "cell_type": "code",
   "execution_count": 49,
   "metadata": {},
   "outputs": [
    {
     "data": {
      "text/plain": [
       "(120674, 100)"
      ]
     },
     "execution_count": 49,
     "metadata": {},
     "output_type": "execute_result"
    }
   ],
   "source": [
    "#Fitting the PCA algorithm with our data\n",
    "\n",
    "pca = PCA(n_components=100)\n",
    "features = pca.fit_transform(features)\n",
    "features.shape"
   ]
  },
  {
   "cell_type": "code",
   "execution_count": 50,
   "metadata": {},
   "outputs": [],
   "source": [
    "# Split train and test data without stratify\n",
    "\n",
    "features_train, features_test, labels_train, labels_test = train_test_split(features, labels, test_size = 0.2, train_size=0.8)"
   ]
  },
  {
   "cell_type": "code",
   "execution_count": 51,
   "metadata": {},
   "outputs": [
    {
     "data": {
      "text/plain": [
       "((96539, 100), (96539,))"
      ]
     },
     "execution_count": 51,
     "metadata": {},
     "output_type": "execute_result"
    }
   ],
   "source": [
    "# Check the shapes of train data\n",
    "\n",
    "features_train.shape, labels_train.shape"
   ]
  },
  {
   "cell_type": "code",
   "execution_count": 52,
   "metadata": {},
   "outputs": [
    {
     "data": {
      "text/plain": [
       "((24135, 100), (24135,))"
      ]
     },
     "execution_count": 52,
     "metadata": {},
     "output_type": "execute_result"
    }
   ],
   "source": [
    "# Check the shapes of test data\n",
    "\n",
    "features_test.shape, labels_test.shape"
   ]
  },
  {
   "cell_type": "code",
   "execution_count": 53,
   "metadata": {},
   "outputs": [
    {
     "name": "stderr",
     "output_type": "stream",
     "text": [
      "C:\\Users\\anastasiy.slavova\\AppData\\Local\\Continuum\\anaconda3\\lib\\site-packages\\sklearn\\linear_model\\logistic.py:432: FutureWarning: Default solver will be changed to 'lbfgs' in 0.22. Specify a solver to silence this warning.\n",
      "  FutureWarning)\n"
     ]
    },
    {
     "data": {
      "text/plain": [
       "0.7829478241954029"
      ]
     },
     "execution_count": 53,
     "metadata": {},
     "output_type": "execute_result"
    }
   ],
   "source": [
    "# Train logistic regression classifier with default hyperparameters\n",
    "\n",
    "model = LogisticRegression()\n",
    "model.fit(features_train,labels_train)\n",
    "labels_pred_train = model.predict(features_train)\n",
    "labels_pred_test = model.predict(features_test)\n",
    "\n",
    "# Baseline accuracy score of the trained model\n",
    "\n",
    "model.score(features_train,labels_train)"
   ]
  },
  {
   "cell_type": "code",
   "execution_count": 54,
   "metadata": {},
   "outputs": [
    {
     "data": {
      "text/plain": [
       "0.8160994190026505"
      ]
     },
     "execution_count": 54,
     "metadata": {},
     "output_type": "execute_result"
    }
   ],
   "source": [
    "# F1_score of test data\n",
    "\n",
    "f1_score(labels_train, labels_pred_train, pos_label = 1)"
   ]
  },
  {
   "cell_type": "code",
   "execution_count": 55,
   "metadata": {},
   "outputs": [
    {
     "name": "stdout",
     "output_type": "stream",
     "text": [
      "              precision    recall  f1-score   support\n",
      "\n",
      "           0       0.94      0.60      0.74     48230\n",
      "           1       0.71      0.96      0.82     48309\n",
      "\n",
      "    accuracy                           0.78     96539\n",
      "   macro avg       0.82      0.78      0.78     96539\n",
      "weighted avg       0.82      0.78      0.78     96539\n",
      "\n"
     ]
    }
   ],
   "source": [
    "# Classification report\n",
    "\n",
    "print(classification_report(labels_train,labels_pred_train))"
   ]
  },
  {
   "cell_type": "code",
   "execution_count": 56,
   "metadata": {},
   "outputs": [
    {
     "data": {
      "text/plain": [
       "array([[29091, 19139],\n",
       "       [ 1815, 46494]], dtype=int64)"
      ]
     },
     "execution_count": 56,
     "metadata": {},
     "output_type": "execute_result"
    }
   ],
   "source": [
    "# Confusion matrix\n",
    "\n",
    "confusion_matrix(labels_train,labels_pred_train)"
   ]
  },
  {
   "cell_type": "markdown",
   "metadata": {},
   "source": [
    "There're high numbers of both:\n",
    "\n",
    "* **false positive** predictions of adoptions when there was no such an event and \n",
    "* **false negative** predictions of no adoption when in fact there was one \n",
    "\n",
    "The model has a good recall rate for positive label but low precision which means we do not catch all true positives."
   ]
  },
  {
   "cell_type": "code",
   "execution_count": 57,
   "metadata": {
    "scrolled": true
   },
   "outputs": [
    {
     "name": "stderr",
     "output_type": "stream",
     "text": [
      "C:\\Users\\anastasiy.slavova\\AppData\\Local\\Continuum\\anaconda3\\lib\\site-packages\\sklearn\\model_selection\\_split.py:1978: FutureWarning: The default value of cv will change from 3 to 5 in version 0.22. Specify it explicitly to silence this warning.\n",
      "  warnings.warn(CV_WARNING, FutureWarning)\n",
      "C:\\Users\\anastasiy.slavova\\AppData\\Local\\Continuum\\anaconda3\\lib\\site-packages\\sklearn\\linear_model\\logistic.py:432: FutureWarning: Default solver will be changed to 'lbfgs' in 0.22. Specify a solver to silence this warning.\n",
      "  FutureWarning)\n",
      "C:\\Users\\anastasiy.slavova\\AppData\\Local\\Continuum\\anaconda3\\lib\\site-packages\\sklearn\\svm\\base.py:929: ConvergenceWarning: Liblinear failed to converge, increase the number of iterations.\n",
      "  \"the number of iterations.\", ConvergenceWarning)\n",
      "C:\\Users\\anastasiy.slavova\\AppData\\Local\\Continuum\\anaconda3\\lib\\site-packages\\sklearn\\linear_model\\logistic.py:432: FutureWarning: Default solver will be changed to 'lbfgs' in 0.22. Specify a solver to silence this warning.\n",
      "  FutureWarning)\n",
      "C:\\Users\\anastasiy.slavova\\AppData\\Local\\Continuum\\anaconda3\\lib\\site-packages\\sklearn\\svm\\base.py:929: ConvergenceWarning: Liblinear failed to converge, increase the number of iterations.\n",
      "  \"the number of iterations.\", ConvergenceWarning)\n",
      "C:\\Users\\anastasiy.slavova\\AppData\\Local\\Continuum\\anaconda3\\lib\\site-packages\\sklearn\\linear_model\\logistic.py:432: FutureWarning: Default solver will be changed to 'lbfgs' in 0.22. Specify a solver to silence this warning.\n",
      "  FutureWarning)\n",
      "C:\\Users\\anastasiy.slavova\\AppData\\Local\\Continuum\\anaconda3\\lib\\site-packages\\sklearn\\svm\\base.py:929: ConvergenceWarning: Liblinear failed to converge, increase the number of iterations.\n",
      "  \"the number of iterations.\", ConvergenceWarning)\n",
      "C:\\Users\\anastasiy.slavova\\AppData\\Local\\Continuum\\anaconda3\\lib\\site-packages\\sklearn\\linear_model\\logistic.py:432: FutureWarning: Default solver will be changed to 'lbfgs' in 0.22. Specify a solver to silence this warning.\n",
      "  FutureWarning)\n",
      "C:\\Users\\anastasiy.slavova\\AppData\\Local\\Continuum\\anaconda3\\lib\\site-packages\\sklearn\\linear_model\\logistic.py:432: FutureWarning: Default solver will be changed to 'lbfgs' in 0.22. Specify a solver to silence this warning.\n",
      "  FutureWarning)\n",
      "C:\\Users\\anastasiy.slavova\\AppData\\Local\\Continuum\\anaconda3\\lib\\site-packages\\sklearn\\linear_model\\logistic.py:432: FutureWarning: Default solver will be changed to 'lbfgs' in 0.22. Specify a solver to silence this warning.\n",
      "  FutureWarning)\n",
      "C:\\Users\\anastasiy.slavova\\AppData\\Local\\Continuum\\anaconda3\\lib\\site-packages\\sklearn\\linear_model\\logistic.py:432: FutureWarning: Default solver will be changed to 'lbfgs' in 0.22. Specify a solver to silence this warning.\n",
      "  FutureWarning)\n",
      "C:\\Users\\anastasiy.slavova\\AppData\\Local\\Continuum\\anaconda3\\lib\\site-packages\\sklearn\\linear_model\\logistic.py:432: FutureWarning: Default solver will be changed to 'lbfgs' in 0.22. Specify a solver to silence this warning.\n",
      "  FutureWarning)\n",
      "C:\\Users\\anastasiy.slavova\\AppData\\Local\\Continuum\\anaconda3\\lib\\site-packages\\sklearn\\linear_model\\logistic.py:432: FutureWarning: Default solver will be changed to 'lbfgs' in 0.22. Specify a solver to silence this warning.\n",
      "  FutureWarning)\n",
      "C:\\Users\\anastasiy.slavova\\AppData\\Local\\Continuum\\anaconda3\\lib\\site-packages\\sklearn\\linear_model\\logistic.py:432: FutureWarning: Default solver will be changed to 'lbfgs' in 0.22. Specify a solver to silence this warning.\n",
      "  FutureWarning)\n",
      "C:\\Users\\anastasiy.slavova\\AppData\\Local\\Continuum\\anaconda3\\lib\\site-packages\\sklearn\\linear_model\\logistic.py:432: FutureWarning: Default solver will be changed to 'lbfgs' in 0.22. Specify a solver to silence this warning.\n",
      "  FutureWarning)\n",
      "C:\\Users\\anastasiy.slavova\\AppData\\Local\\Continuum\\anaconda3\\lib\\site-packages\\sklearn\\linear_model\\logistic.py:432: FutureWarning: Default solver will be changed to 'lbfgs' in 0.22. Specify a solver to silence this warning.\n",
      "  FutureWarning)\n",
      "C:\\Users\\anastasiy.slavova\\AppData\\Local\\Continuum\\anaconda3\\lib\\site-packages\\sklearn\\linear_model\\logistic.py:432: FutureWarning: Default solver will be changed to 'lbfgs' in 0.22. Specify a solver to silence this warning.\n",
      "  FutureWarning)\n",
      "C:\\Users\\anastasiy.slavova\\AppData\\Local\\Continuum\\anaconda3\\lib\\site-packages\\sklearn\\svm\\base.py:929: ConvergenceWarning: Liblinear failed to converge, increase the number of iterations.\n",
      "  \"the number of iterations.\", ConvergenceWarning)\n",
      "C:\\Users\\anastasiy.slavova\\AppData\\Local\\Continuum\\anaconda3\\lib\\site-packages\\sklearn\\linear_model\\logistic.py:432: FutureWarning: Default solver will be changed to 'lbfgs' in 0.22. Specify a solver to silence this warning.\n",
      "  FutureWarning)\n",
      "C:\\Users\\anastasiy.slavova\\AppData\\Local\\Continuum\\anaconda3\\lib\\site-packages\\sklearn\\svm\\base.py:929: ConvergenceWarning: Liblinear failed to converge, increase the number of iterations.\n",
      "  \"the number of iterations.\", ConvergenceWarning)\n",
      "C:\\Users\\anastasiy.slavova\\AppData\\Local\\Continuum\\anaconda3\\lib\\site-packages\\sklearn\\linear_model\\logistic.py:432: FutureWarning: Default solver will be changed to 'lbfgs' in 0.22. Specify a solver to silence this warning.\n",
      "  FutureWarning)\n",
      "C:\\Users\\anastasiy.slavova\\AppData\\Local\\Continuum\\anaconda3\\lib\\site-packages\\sklearn\\svm\\base.py:929: ConvergenceWarning: Liblinear failed to converge, increase the number of iterations.\n",
      "  \"the number of iterations.\", ConvergenceWarning)\n",
      "C:\\Users\\anastasiy.slavova\\AppData\\Local\\Continuum\\anaconda3\\lib\\site-packages\\sklearn\\linear_model\\logistic.py:432: FutureWarning: Default solver will be changed to 'lbfgs' in 0.22. Specify a solver to silence this warning.\n",
      "  FutureWarning)\n",
      "C:\\Users\\anastasiy.slavova\\AppData\\Local\\Continuum\\anaconda3\\lib\\site-packages\\sklearn\\linear_model\\logistic.py:432: FutureWarning: Default solver will be changed to 'lbfgs' in 0.22. Specify a solver to silence this warning.\n",
      "  FutureWarning)\n",
      "C:\\Users\\anastasiy.slavova\\AppData\\Local\\Continuum\\anaconda3\\lib\\site-packages\\sklearn\\linear_model\\logistic.py:432: FutureWarning: Default solver will be changed to 'lbfgs' in 0.22. Specify a solver to silence this warning.\n",
      "  FutureWarning)\n",
      "C:\\Users\\anastasiy.slavova\\AppData\\Local\\Continuum\\anaconda3\\lib\\site-packages\\sklearn\\linear_model\\logistic.py:432: FutureWarning: Default solver will be changed to 'lbfgs' in 0.22. Specify a solver to silence this warning.\n",
      "  FutureWarning)\n",
      "C:\\Users\\anastasiy.slavova\\AppData\\Local\\Continuum\\anaconda3\\lib\\site-packages\\sklearn\\linear_model\\logistic.py:432: FutureWarning: Default solver will be changed to 'lbfgs' in 0.22. Specify a solver to silence this warning.\n",
      "  FutureWarning)\n",
      "C:\\Users\\anastasiy.slavova\\AppData\\Local\\Continuum\\anaconda3\\lib\\site-packages\\sklearn\\linear_model\\logistic.py:432: FutureWarning: Default solver will be changed to 'lbfgs' in 0.22. Specify a solver to silence this warning.\n",
      "  FutureWarning)\n",
      "C:\\Users\\anastasiy.slavova\\AppData\\Local\\Continuum\\anaconda3\\lib\\site-packages\\sklearn\\linear_model\\logistic.py:432: FutureWarning: Default solver will be changed to 'lbfgs' in 0.22. Specify a solver to silence this warning.\n",
      "  FutureWarning)\n",
      "C:\\Users\\anastasiy.slavova\\AppData\\Local\\Continuum\\anaconda3\\lib\\site-packages\\sklearn\\linear_model\\logistic.py:432: FutureWarning: Default solver will be changed to 'lbfgs' in 0.22. Specify a solver to silence this warning.\n",
      "  FutureWarning)\n",
      "C:\\Users\\anastasiy.slavova\\AppData\\Local\\Continuum\\anaconda3\\lib\\site-packages\\sklearn\\linear_model\\logistic.py:432: FutureWarning: Default solver will be changed to 'lbfgs' in 0.22. Specify a solver to silence this warning.\n",
      "  FutureWarning)\n",
      "C:\\Users\\anastasiy.slavova\\AppData\\Local\\Continuum\\anaconda3\\lib\\site-packages\\sklearn\\linear_model\\logistic.py:432: FutureWarning: Default solver will be changed to 'lbfgs' in 0.22. Specify a solver to silence this warning.\n",
      "  FutureWarning)\n",
      "C:\\Users\\anastasiy.slavova\\AppData\\Local\\Continuum\\anaconda3\\lib\\site-packages\\sklearn\\svm\\base.py:929: ConvergenceWarning: Liblinear failed to converge, increase the number of iterations.\n",
      "  \"the number of iterations.\", ConvergenceWarning)\n",
      "C:\\Users\\anastasiy.slavova\\AppData\\Local\\Continuum\\anaconda3\\lib\\site-packages\\sklearn\\linear_model\\logistic.py:432: FutureWarning: Default solver will be changed to 'lbfgs' in 0.22. Specify a solver to silence this warning.\n",
      "  FutureWarning)\n"
     ]
    },
    {
     "name": "stderr",
     "output_type": "stream",
     "text": [
      "C:\\Users\\anastasiy.slavova\\AppData\\Local\\Continuum\\anaconda3\\lib\\site-packages\\sklearn\\svm\\base.py:929: ConvergenceWarning: Liblinear failed to converge, increase the number of iterations.\n",
      "  \"the number of iterations.\", ConvergenceWarning)\n",
      "C:\\Users\\anastasiy.slavova\\AppData\\Local\\Continuum\\anaconda3\\lib\\site-packages\\sklearn\\linear_model\\logistic.py:432: FutureWarning: Default solver will be changed to 'lbfgs' in 0.22. Specify a solver to silence this warning.\n",
      "  FutureWarning)\n",
      "C:\\Users\\anastasiy.slavova\\AppData\\Local\\Continuum\\anaconda3\\lib\\site-packages\\sklearn\\svm\\base.py:929: ConvergenceWarning: Liblinear failed to converge, increase the number of iterations.\n",
      "  \"the number of iterations.\", ConvergenceWarning)\n",
      "C:\\Users\\anastasiy.slavova\\AppData\\Local\\Continuum\\anaconda3\\lib\\site-packages\\sklearn\\linear_model\\logistic.py:432: FutureWarning: Default solver will be changed to 'lbfgs' in 0.22. Specify a solver to silence this warning.\n",
      "  FutureWarning)\n",
      "C:\\Users\\anastasiy.slavova\\AppData\\Local\\Continuum\\anaconda3\\lib\\site-packages\\sklearn\\linear_model\\logistic.py:432: FutureWarning: Default solver will be changed to 'lbfgs' in 0.22. Specify a solver to silence this warning.\n",
      "  FutureWarning)\n",
      "C:\\Users\\anastasiy.slavova\\AppData\\Local\\Continuum\\anaconda3\\lib\\site-packages\\sklearn\\linear_model\\logistic.py:432: FutureWarning: Default solver will be changed to 'lbfgs' in 0.22. Specify a solver to silence this warning.\n",
      "  FutureWarning)\n",
      "C:\\Users\\anastasiy.slavova\\AppData\\Local\\Continuum\\anaconda3\\lib\\site-packages\\sklearn\\linear_model\\logistic.py:432: FutureWarning: Default solver will be changed to 'lbfgs' in 0.22. Specify a solver to silence this warning.\n",
      "  FutureWarning)\n",
      "C:\\Users\\anastasiy.slavova\\AppData\\Local\\Continuum\\anaconda3\\lib\\site-packages\\sklearn\\linear_model\\logistic.py:432: FutureWarning: Default solver will be changed to 'lbfgs' in 0.22. Specify a solver to silence this warning.\n",
      "  FutureWarning)\n",
      "C:\\Users\\anastasiy.slavova\\AppData\\Local\\Continuum\\anaconda3\\lib\\site-packages\\sklearn\\linear_model\\logistic.py:432: FutureWarning: Default solver will be changed to 'lbfgs' in 0.22. Specify a solver to silence this warning.\n",
      "  FutureWarning)\n",
      "C:\\Users\\anastasiy.slavova\\AppData\\Local\\Continuum\\anaconda3\\lib\\site-packages\\sklearn\\linear_model\\logistic.py:432: FutureWarning: Default solver will be changed to 'lbfgs' in 0.22. Specify a solver to silence this warning.\n",
      "  FutureWarning)\n",
      "C:\\Users\\anastasiy.slavova\\AppData\\Local\\Continuum\\anaconda3\\lib\\site-packages\\sklearn\\linear_model\\logistic.py:432: FutureWarning: Default solver will be changed to 'lbfgs' in 0.22. Specify a solver to silence this warning.\n",
      "  FutureWarning)\n",
      "C:\\Users\\anastasiy.slavova\\AppData\\Local\\Continuum\\anaconda3\\lib\\site-packages\\sklearn\\linear_model\\logistic.py:432: FutureWarning: Default solver will be changed to 'lbfgs' in 0.22. Specify a solver to silence this warning.\n",
      "  FutureWarning)\n",
      "C:\\Users\\anastasiy.slavova\\AppData\\Local\\Continuum\\anaconda3\\lib\\site-packages\\sklearn\\linear_model\\logistic.py:432: FutureWarning: Default solver will be changed to 'lbfgs' in 0.22. Specify a solver to silence this warning.\n",
      "  FutureWarning)\n",
      "C:\\Users\\anastasiy.slavova\\AppData\\Local\\Continuum\\anaconda3\\lib\\site-packages\\sklearn\\svm\\base.py:929: ConvergenceWarning: Liblinear failed to converge, increase the number of iterations.\n",
      "  \"the number of iterations.\", ConvergenceWarning)\n",
      "C:\\Users\\anastasiy.slavova\\AppData\\Local\\Continuum\\anaconda3\\lib\\site-packages\\sklearn\\linear_model\\logistic.py:432: FutureWarning: Default solver will be changed to 'lbfgs' in 0.22. Specify a solver to silence this warning.\n",
      "  FutureWarning)\n",
      "C:\\Users\\anastasiy.slavova\\AppData\\Local\\Continuum\\anaconda3\\lib\\site-packages\\sklearn\\svm\\base.py:929: ConvergenceWarning: Liblinear failed to converge, increase the number of iterations.\n",
      "  \"the number of iterations.\", ConvergenceWarning)\n",
      "C:\\Users\\anastasiy.slavova\\AppData\\Local\\Continuum\\anaconda3\\lib\\site-packages\\sklearn\\linear_model\\logistic.py:432: FutureWarning: Default solver will be changed to 'lbfgs' in 0.22. Specify a solver to silence this warning.\n",
      "  FutureWarning)\n",
      "C:\\Users\\anastasiy.slavova\\AppData\\Local\\Continuum\\anaconda3\\lib\\site-packages\\sklearn\\svm\\base.py:929: ConvergenceWarning: Liblinear failed to converge, increase the number of iterations.\n",
      "  \"the number of iterations.\", ConvergenceWarning)\n",
      "C:\\Users\\anastasiy.slavova\\AppData\\Local\\Continuum\\anaconda3\\lib\\site-packages\\sklearn\\linear_model\\logistic.py:432: FutureWarning: Default solver will be changed to 'lbfgs' in 0.22. Specify a solver to silence this warning.\n",
      "  FutureWarning)\n",
      "C:\\Users\\anastasiy.slavova\\AppData\\Local\\Continuum\\anaconda3\\lib\\site-packages\\sklearn\\linear_model\\logistic.py:432: FutureWarning: Default solver will be changed to 'lbfgs' in 0.22. Specify a solver to silence this warning.\n",
      "  FutureWarning)\n",
      "C:\\Users\\anastasiy.slavova\\AppData\\Local\\Continuum\\anaconda3\\lib\\site-packages\\sklearn\\linear_model\\logistic.py:432: FutureWarning: Default solver will be changed to 'lbfgs' in 0.22. Specify a solver to silence this warning.\n",
      "  FutureWarning)\n",
      "C:\\Users\\anastasiy.slavova\\AppData\\Local\\Continuum\\anaconda3\\lib\\site-packages\\sklearn\\linear_model\\logistic.py:432: FutureWarning: Default solver will be changed to 'lbfgs' in 0.22. Specify a solver to silence this warning.\n",
      "  FutureWarning)\n",
      "C:\\Users\\anastasiy.slavova\\AppData\\Local\\Continuum\\anaconda3\\lib\\site-packages\\sklearn\\linear_model\\logistic.py:432: FutureWarning: Default solver will be changed to 'lbfgs' in 0.22. Specify a solver to silence this warning.\n",
      "  FutureWarning)\n",
      "C:\\Users\\anastasiy.slavova\\AppData\\Local\\Continuum\\anaconda3\\lib\\site-packages\\sklearn\\linear_model\\logistic.py:432: FutureWarning: Default solver will be changed to 'lbfgs' in 0.22. Specify a solver to silence this warning.\n",
      "  FutureWarning)\n",
      "C:\\Users\\anastasiy.slavova\\AppData\\Local\\Continuum\\anaconda3\\lib\\site-packages\\sklearn\\linear_model\\logistic.py:432: FutureWarning: Default solver will be changed to 'lbfgs' in 0.22. Specify a solver to silence this warning.\n",
      "  FutureWarning)\n",
      "C:\\Users\\anastasiy.slavova\\AppData\\Local\\Continuum\\anaconda3\\lib\\site-packages\\sklearn\\linear_model\\logistic.py:432: FutureWarning: Default solver will be changed to 'lbfgs' in 0.22. Specify a solver to silence this warning.\n",
      "  FutureWarning)\n",
      "C:\\Users\\anastasiy.slavova\\AppData\\Local\\Continuum\\anaconda3\\lib\\site-packages\\sklearn\\linear_model\\logistic.py:432: FutureWarning: Default solver will be changed to 'lbfgs' in 0.22. Specify a solver to silence this warning.\n",
      "  FutureWarning)\n",
      "C:\\Users\\anastasiy.slavova\\AppData\\Local\\Continuum\\anaconda3\\lib\\site-packages\\sklearn\\linear_model\\logistic.py:432: FutureWarning: Default solver will be changed to 'lbfgs' in 0.22. Specify a solver to silence this warning.\n",
      "  FutureWarning)\n",
      "C:\\Users\\anastasiy.slavova\\AppData\\Local\\Continuum\\anaconda3\\lib\\site-packages\\sklearn\\svm\\base.py:929: ConvergenceWarning: Liblinear failed to converge, increase the number of iterations.\n",
      "  \"the number of iterations.\", ConvergenceWarning)\n",
      "C:\\Users\\anastasiy.slavova\\AppData\\Local\\Continuum\\anaconda3\\lib\\site-packages\\sklearn\\linear_model\\logistic.py:432: FutureWarning: Default solver will be changed to 'lbfgs' in 0.22. Specify a solver to silence this warning.\n",
      "  FutureWarning)\n",
      "C:\\Users\\anastasiy.slavova\\AppData\\Local\\Continuum\\anaconda3\\lib\\site-packages\\sklearn\\svm\\base.py:929: ConvergenceWarning: Liblinear failed to converge, increase the number of iterations.\n",
      "  \"the number of iterations.\", ConvergenceWarning)\n",
      "C:\\Users\\anastasiy.slavova\\AppData\\Local\\Continuum\\anaconda3\\lib\\site-packages\\sklearn\\linear_model\\logistic.py:432: FutureWarning: Default solver will be changed to 'lbfgs' in 0.22. Specify a solver to silence this warning.\n",
      "  FutureWarning)\n",
      "C:\\Users\\anastasiy.slavova\\AppData\\Local\\Continuum\\anaconda3\\lib\\site-packages\\sklearn\\svm\\base.py:929: ConvergenceWarning: Liblinear failed to converge, increase the number of iterations.\n",
      "  \"the number of iterations.\", ConvergenceWarning)\n",
      "C:\\Users\\anastasiy.slavova\\AppData\\Local\\Continuum\\anaconda3\\lib\\site-packages\\sklearn\\linear_model\\logistic.py:432: FutureWarning: Default solver will be changed to 'lbfgs' in 0.22. Specify a solver to silence this warning.\n",
      "  FutureWarning)\n"
     ]
    },
    {
     "name": "stderr",
     "output_type": "stream",
     "text": [
      "C:\\Users\\anastasiy.slavova\\AppData\\Local\\Continuum\\anaconda3\\lib\\site-packages\\sklearn\\linear_model\\logistic.py:432: FutureWarning: Default solver will be changed to 'lbfgs' in 0.22. Specify a solver to silence this warning.\n",
      "  FutureWarning)\n",
      "C:\\Users\\anastasiy.slavova\\AppData\\Local\\Continuum\\anaconda3\\lib\\site-packages\\sklearn\\linear_model\\logistic.py:432: FutureWarning: Default solver will be changed to 'lbfgs' in 0.22. Specify a solver to silence this warning.\n",
      "  FutureWarning)\n",
      "C:\\Users\\anastasiy.slavova\\AppData\\Local\\Continuum\\anaconda3\\lib\\site-packages\\sklearn\\linear_model\\logistic.py:432: FutureWarning: Default solver will be changed to 'lbfgs' in 0.22. Specify a solver to silence this warning.\n",
      "  FutureWarning)\n",
      "C:\\Users\\anastasiy.slavova\\AppData\\Local\\Continuum\\anaconda3\\lib\\site-packages\\sklearn\\linear_model\\logistic.py:432: FutureWarning: Default solver will be changed to 'lbfgs' in 0.22. Specify a solver to silence this warning.\n",
      "  FutureWarning)\n",
      "C:\\Users\\anastasiy.slavova\\AppData\\Local\\Continuum\\anaconda3\\lib\\site-packages\\sklearn\\linear_model\\logistic.py:432: FutureWarning: Default solver will be changed to 'lbfgs' in 0.22. Specify a solver to silence this warning.\n",
      "  FutureWarning)\n",
      "C:\\Users\\anastasiy.slavova\\AppData\\Local\\Continuum\\anaconda3\\lib\\site-packages\\sklearn\\linear_model\\logistic.py:432: FutureWarning: Default solver will be changed to 'lbfgs' in 0.22. Specify a solver to silence this warning.\n",
      "  FutureWarning)\n",
      "C:\\Users\\anastasiy.slavova\\AppData\\Local\\Continuum\\anaconda3\\lib\\site-packages\\sklearn\\linear_model\\logistic.py:432: FutureWarning: Default solver will be changed to 'lbfgs' in 0.22. Specify a solver to silence this warning.\n",
      "  FutureWarning)\n",
      "C:\\Users\\anastasiy.slavova\\AppData\\Local\\Continuum\\anaconda3\\lib\\site-packages\\sklearn\\linear_model\\logistic.py:432: FutureWarning: Default solver will be changed to 'lbfgs' in 0.22. Specify a solver to silence this warning.\n",
      "  FutureWarning)\n",
      "C:\\Users\\anastasiy.slavova\\AppData\\Local\\Continuum\\anaconda3\\lib\\site-packages\\sklearn\\linear_model\\logistic.py:432: FutureWarning: Default solver will be changed to 'lbfgs' in 0.22. Specify a solver to silence this warning.\n",
      "  FutureWarning)\n",
      "C:\\Users\\anastasiy.slavova\\AppData\\Local\\Continuum\\anaconda3\\lib\\site-packages\\sklearn\\svm\\base.py:929: ConvergenceWarning: Liblinear failed to converge, increase the number of iterations.\n",
      "  \"the number of iterations.\", ConvergenceWarning)\n",
      "C:\\Users\\anastasiy.slavova\\AppData\\Local\\Continuum\\anaconda3\\lib\\site-packages\\sklearn\\linear_model\\logistic.py:432: FutureWarning: Default solver will be changed to 'lbfgs' in 0.22. Specify a solver to silence this warning.\n",
      "  FutureWarning)\n",
      "C:\\Users\\anastasiy.slavova\\AppData\\Local\\Continuum\\anaconda3\\lib\\site-packages\\sklearn\\svm\\base.py:929: ConvergenceWarning: Liblinear failed to converge, increase the number of iterations.\n",
      "  \"the number of iterations.\", ConvergenceWarning)\n",
      "C:\\Users\\anastasiy.slavova\\AppData\\Local\\Continuum\\anaconda3\\lib\\site-packages\\sklearn\\linear_model\\logistic.py:432: FutureWarning: Default solver will be changed to 'lbfgs' in 0.22. Specify a solver to silence this warning.\n",
      "  FutureWarning)\n",
      "C:\\Users\\anastasiy.slavova\\AppData\\Local\\Continuum\\anaconda3\\lib\\site-packages\\sklearn\\svm\\base.py:929: ConvergenceWarning: Liblinear failed to converge, increase the number of iterations.\n",
      "  \"the number of iterations.\", ConvergenceWarning)\n",
      "C:\\Users\\anastasiy.slavova\\AppData\\Local\\Continuum\\anaconda3\\lib\\site-packages\\sklearn\\linear_model\\logistic.py:432: FutureWarning: Default solver will be changed to 'lbfgs' in 0.22. Specify a solver to silence this warning.\n",
      "  FutureWarning)\n",
      "C:\\Users\\anastasiy.slavova\\AppData\\Local\\Continuum\\anaconda3\\lib\\site-packages\\sklearn\\linear_model\\logistic.py:432: FutureWarning: Default solver will be changed to 'lbfgs' in 0.22. Specify a solver to silence this warning.\n",
      "  FutureWarning)\n",
      "C:\\Users\\anastasiy.slavova\\AppData\\Local\\Continuum\\anaconda3\\lib\\site-packages\\sklearn\\linear_model\\logistic.py:432: FutureWarning: Default solver will be changed to 'lbfgs' in 0.22. Specify a solver to silence this warning.\n",
      "  FutureWarning)\n",
      "C:\\Users\\anastasiy.slavova\\AppData\\Local\\Continuum\\anaconda3\\lib\\site-packages\\sklearn\\linear_model\\logistic.py:432: FutureWarning: Default solver will be changed to 'lbfgs' in 0.22. Specify a solver to silence this warning.\n",
      "  FutureWarning)\n",
      "C:\\Users\\anastasiy.slavova\\AppData\\Local\\Continuum\\anaconda3\\lib\\site-packages\\sklearn\\linear_model\\logistic.py:432: FutureWarning: Default solver will be changed to 'lbfgs' in 0.22. Specify a solver to silence this warning.\n",
      "  FutureWarning)\n",
      "C:\\Users\\anastasiy.slavova\\AppData\\Local\\Continuum\\anaconda3\\lib\\site-packages\\sklearn\\linear_model\\logistic.py:432: FutureWarning: Default solver will be changed to 'lbfgs' in 0.22. Specify a solver to silence this warning.\n",
      "  FutureWarning)\n",
      "C:\\Users\\anastasiy.slavova\\AppData\\Local\\Continuum\\anaconda3\\lib\\site-packages\\sklearn\\linear_model\\logistic.py:432: FutureWarning: Default solver will be changed to 'lbfgs' in 0.22. Specify a solver to silence this warning.\n",
      "  FutureWarning)\n",
      "C:\\Users\\anastasiy.slavova\\AppData\\Local\\Continuum\\anaconda3\\lib\\site-packages\\sklearn\\linear_model\\logistic.py:432: FutureWarning: Default solver will be changed to 'lbfgs' in 0.22. Specify a solver to silence this warning.\n",
      "  FutureWarning)\n",
      "C:\\Users\\anastasiy.slavova\\AppData\\Local\\Continuum\\anaconda3\\lib\\site-packages\\sklearn\\linear_model\\logistic.py:432: FutureWarning: Default solver will be changed to 'lbfgs' in 0.22. Specify a solver to silence this warning.\n",
      "  FutureWarning)\n",
      "C:\\Users\\anastasiy.slavova\\AppData\\Local\\Continuum\\anaconda3\\lib\\site-packages\\sklearn\\linear_model\\logistic.py:432: FutureWarning: Default solver will be changed to 'lbfgs' in 0.22. Specify a solver to silence this warning.\n",
      "  FutureWarning)\n",
      "C:\\Users\\anastasiy.slavova\\AppData\\Local\\Continuum\\anaconda3\\lib\\site-packages\\sklearn\\svm\\base.py:929: ConvergenceWarning: Liblinear failed to converge, increase the number of iterations.\n",
      "  \"the number of iterations.\", ConvergenceWarning)\n",
      "C:\\Users\\anastasiy.slavova\\AppData\\Local\\Continuum\\anaconda3\\lib\\site-packages\\sklearn\\linear_model\\logistic.py:432: FutureWarning: Default solver will be changed to 'lbfgs' in 0.22. Specify a solver to silence this warning.\n",
      "  FutureWarning)\n",
      "C:\\Users\\anastasiy.slavova\\AppData\\Local\\Continuum\\anaconda3\\lib\\site-packages\\sklearn\\svm\\base.py:929: ConvergenceWarning: Liblinear failed to converge, increase the number of iterations.\n",
      "  \"the number of iterations.\", ConvergenceWarning)\n",
      "C:\\Users\\anastasiy.slavova\\AppData\\Local\\Continuum\\anaconda3\\lib\\site-packages\\sklearn\\linear_model\\logistic.py:432: FutureWarning: Default solver will be changed to 'lbfgs' in 0.22. Specify a solver to silence this warning.\n",
      "  FutureWarning)\n",
      "C:\\Users\\anastasiy.slavova\\AppData\\Local\\Continuum\\anaconda3\\lib\\site-packages\\sklearn\\svm\\base.py:929: ConvergenceWarning: Liblinear failed to converge, increase the number of iterations.\n",
      "  \"the number of iterations.\", ConvergenceWarning)\n",
      "C:\\Users\\anastasiy.slavova\\AppData\\Local\\Continuum\\anaconda3\\lib\\site-packages\\sklearn\\linear_model\\logistic.py:432: FutureWarning: Default solver will be changed to 'lbfgs' in 0.22. Specify a solver to silence this warning.\n",
      "  FutureWarning)\n",
      "C:\\Users\\anastasiy.slavova\\AppData\\Local\\Continuum\\anaconda3\\lib\\site-packages\\sklearn\\linear_model\\logistic.py:432: FutureWarning: Default solver will be changed to 'lbfgs' in 0.22. Specify a solver to silence this warning.\n",
      "  FutureWarning)\n",
      "C:\\Users\\anastasiy.slavova\\AppData\\Local\\Continuum\\anaconda3\\lib\\site-packages\\sklearn\\linear_model\\logistic.py:432: FutureWarning: Default solver will be changed to 'lbfgs' in 0.22. Specify a solver to silence this warning.\n",
      "  FutureWarning)\n",
      "C:\\Users\\anastasiy.slavova\\AppData\\Local\\Continuum\\anaconda3\\lib\\site-packages\\sklearn\\linear_model\\logistic.py:432: FutureWarning: Default solver will be changed to 'lbfgs' in 0.22. Specify a solver to silence this warning.\n",
      "  FutureWarning)\n",
      "C:\\Users\\anastasiy.slavova\\AppData\\Local\\Continuum\\anaconda3\\lib\\site-packages\\sklearn\\linear_model\\logistic.py:432: FutureWarning: Default solver will be changed to 'lbfgs' in 0.22. Specify a solver to silence this warning.\n",
      "  FutureWarning)\n"
     ]
    },
    {
     "name": "stderr",
     "output_type": "stream",
     "text": [
      "C:\\Users\\anastasiy.slavova\\AppData\\Local\\Continuum\\anaconda3\\lib\\site-packages\\sklearn\\linear_model\\logistic.py:432: FutureWarning: Default solver will be changed to 'lbfgs' in 0.22. Specify a solver to silence this warning.\n",
      "  FutureWarning)\n",
      "C:\\Users\\anastasiy.slavova\\AppData\\Local\\Continuum\\anaconda3\\lib\\site-packages\\sklearn\\linear_model\\logistic.py:432: FutureWarning: Default solver will be changed to 'lbfgs' in 0.22. Specify a solver to silence this warning.\n",
      "  FutureWarning)\n",
      "C:\\Users\\anastasiy.slavova\\AppData\\Local\\Continuum\\anaconda3\\lib\\site-packages\\sklearn\\linear_model\\logistic.py:432: FutureWarning: Default solver will be changed to 'lbfgs' in 0.22. Specify a solver to silence this warning.\n",
      "  FutureWarning)\n",
      "C:\\Users\\anastasiy.slavova\\AppData\\Local\\Continuum\\anaconda3\\lib\\site-packages\\sklearn\\linear_model\\logistic.py:432: FutureWarning: Default solver will be changed to 'lbfgs' in 0.22. Specify a solver to silence this warning.\n",
      "  FutureWarning)\n",
      "C:\\Users\\anastasiy.slavova\\AppData\\Local\\Continuum\\anaconda3\\lib\\site-packages\\sklearn\\linear_model\\logistic.py:432: FutureWarning: Default solver will be changed to 'lbfgs' in 0.22. Specify a solver to silence this warning.\n",
      "  FutureWarning)\n",
      "C:\\Users\\anastasiy.slavova\\AppData\\Local\\Continuum\\anaconda3\\lib\\site-packages\\sklearn\\svm\\base.py:929: ConvergenceWarning: Liblinear failed to converge, increase the number of iterations.\n",
      "  \"the number of iterations.\", ConvergenceWarning)\n"
     ]
    },
    {
     "data": {
      "text/plain": [
       "GridSearchCV(cv='warn', error_score='raise-deprecating',\n",
       "             estimator=LogisticRegression(C=1.0, class_weight=None, dual=False,\n",
       "                                          fit_intercept=True,\n",
       "                                          intercept_scaling=1, l1_ratio=None,\n",
       "                                          max_iter=100, multi_class='warn',\n",
       "                                          n_jobs=None, penalty='l2',\n",
       "                                          random_state=None, solver='warn',\n",
       "                                          tol=0.0001, verbose=0,\n",
       "                                          warm_start=False),\n",
       "             iid='warn', n_jobs=None,\n",
       "             param_grid={'C': [0.1, 1, 10, 100, 1000, 10000, 100000],\n",
       "                         'max_iter': [5, 10, 30, 50]},\n",
       "             pre_dispatch='2*n_jobs', refit=True, return_train_score=False,\n",
       "             scoring='precision', verbose=0)"
      ]
     },
     "execution_count": 57,
     "metadata": {},
     "output_type": "execute_result"
    }
   ],
   "source": [
    "params = {\n",
    "    'C':[0.1, 1, 10, 100, 1000, 10000, 100000],\n",
    "    'max_iter':[5, 10, 30, 50],\n",
    "}\n",
    "grid_search_logistic_regr = GridSearchCV(LogisticRegression(), params, scoring = 'precision')\n",
    "grid_search_logistic_regr.fit(features_train, labels_train)"
   ]
  },
  {
   "cell_type": "code",
   "execution_count": 58,
   "metadata": {},
   "outputs": [
    {
     "name": "stdout",
     "output_type": "stream",
     "text": [
      "Logistic regression score for trained data: 0.7085323444261366\n"
     ]
    }
   ],
   "source": [
    "print(\"Logistic regression score for trained data:\", grid_search_logistic_regr.best_score_)"
   ]
  },
  {
   "cell_type": "code",
   "execution_count": 59,
   "metadata": {},
   "outputs": [
    {
     "data": {
      "text/plain": [
       "{'C': 100, 'max_iter': 5}"
      ]
     },
     "execution_count": 59,
     "metadata": {},
     "output_type": "execute_result"
    }
   ],
   "source": [
    "grid_search_logistic_regr.best_params_"
   ]
  },
  {
   "cell_type": "code",
   "execution_count": 60,
   "metadata": {},
   "outputs": [],
   "source": [
    "# results = pd.DataFrame(grid_search_logistic_regr.cv_results_)\n",
    "# results = results.sort_values(by='mean_test_score', ascending=False)"
   ]
  },
  {
   "cell_type": "code",
   "execution_count": 61,
   "metadata": {},
   "outputs": [],
   "source": [
    "# results[['param_C', 'param_max_iter', 'mean_test_score']].round(3).head()"
   ]
  },
  {
   "cell_type": "code",
   "execution_count": 62,
   "metadata": {},
   "outputs": [
    {
     "name": "stdout",
     "output_type": "stream",
     "text": [
      "              precision    recall  f1-score   support\n",
      "\n",
      "           0       0.94      0.60      0.74     48230\n",
      "           1       0.71      0.96      0.82     48309\n",
      "\n",
      "    accuracy                           0.78     96539\n",
      "   macro avg       0.82      0.78      0.78     96539\n",
      "weighted avg       0.82      0.78      0.78     96539\n",
      "\n"
     ]
    }
   ],
   "source": [
    "# Classification report\n",
    "\n",
    "print(classification_report(labels_train, grid_search_logistic_regr.predict(features_train)))"
   ]
  },
  {
   "cell_type": "code",
   "execution_count": 63,
   "metadata": {},
   "outputs": [],
   "source": [
    "logistic_regr_classifier = grid_search_logistic_regr.best_estimator_"
   ]
  },
  {
   "cell_type": "markdown",
   "metadata": {},
   "source": [
    "The perfomance of tuned logistic regression classifier for trained data doesn't differ match. Let's see what shows **Precision-Recall curve** which intend do summarize the trade-off between the true positive rate and the positive predictive value for a predictive model using different probability thresholds. \n",
    "The precision and recall can be calculated for thresholds using the precision_recall_curve() function that takes the true output values and the probabilities for the positive class as output and returns the precision, recall and threshold values."
   ]
  },
  {
   "cell_type": "code",
   "execution_count": 64,
   "metadata": {},
   "outputs": [],
   "source": [
    "labels_score = logistic_regr_classifier.decision_function(features_test)"
   ]
  },
  {
   "cell_type": "code",
   "execution_count": 65,
   "metadata": {},
   "outputs": [
    {
     "data": {
      "text/plain": [
       "Text(0.5, 1.0, '2-class Precision-Recall curve: AP=0.76')"
      ]
     },
     "execution_count": 65,
     "metadata": {},
     "output_type": "execute_result"
    },
    {
     "data": {
      "image/png": "[encoded data removed]",
      "text/plain": [
       "<Figure size 720x288 with 1 Axes>"
      ]
     },
     "metadata": {},
     "output_type": "display_data"
    }
   ],
   "source": [
    "# Precision and recall\n",
    "precision, recall, _ = precision_recall_curve(labels_test, labels_score)\n",
    "\n",
    "# Average precision\n",
    "average_precision = average_precision_score(labels_test, labels_score)\n",
    "\n",
    "step_kwargs = ({'step': 'post'}\n",
    "               if 'step' in signature(plt.fill_between).parameters\n",
    "               else {})\n",
    "plt.step(recall, precision, color='b', alpha=0.2,\n",
    "         where='post')\n",
    "plt.fill_between(recall, precision, alpha=0.2, color='b')\n",
    "\n",
    "plt.xlabel('Recall')\n",
    "plt.ylabel('Precision')\n",
    "plt.ylim([0.0, 1.05])\n",
    "plt.xlim([0.0, 1.0])\n",
    "plt.title('2-class Precision-Recall curve: AP={0:0.2f}'.format(\n",
    "          average_precision))"
   ]
  },
  {
   "cell_type": "markdown",
   "metadata": {},
   "source": [
    "Average precision of the tuned logistic classifier is 76%."
   ]
  },
  {
   "cell_type": "markdown",
   "metadata": {},
   "source": [
    "### 2.4 Train a decision tree classifier\n",
    "\n",
    "We will evaluate the perfomance of baseline decision tree and tune some of its most important hyperparameters:\n",
    "\n",
    "* `max_depth` - indicates how deep the tree can be. The deeper the tree, the more splits it has and therefore captures more information about the data;\n",
    "* `min_samples_leaf` - the minimum number of samples at a leaf node;\n",
    "* `max_leaf_nodes` - the maximum tree nodes numbe. \n",
    "\n",
    "First let's fit a decision tree with default hyperparameters:\n",
    "* `max_depth = None`;\n",
    "* `min_samples_leaf = 1`;\n",
    "* `max_leaf_nodes = 1`.\n",
    "\n",
    "to get a baseline harmonic mean of the precision and recall of its performance."
   ]
  },
  {
   "cell_type": "code",
   "execution_count": 66,
   "metadata": {},
   "outputs": [
    {
     "data": {
      "text/plain": [
       "DecisionTreeClassifier(class_weight=None, criterion='gini', max_depth=None,\n",
       "                       max_features=None, max_leaf_nodes=None,\n",
       "                       min_impurity_decrease=0.0, min_impurity_split=None,\n",
       "                       min_samples_leaf=1, min_samples_split=2,\n",
       "                       min_weight_fraction_leaf=0.0, presort=False,\n",
       "                       random_state=None, splitter='best')"
      ]
     },
     "execution_count": 66,
     "metadata": {},
     "output_type": "execute_result"
    }
   ],
   "source": [
    "# Train a desicion tree with the default hyperparameters\n",
    "\n",
    "tree = DecisionTreeClassifier()\n",
    "tree.fit(features_train, labels_train)"
   ]
  },
  {
   "cell_type": "code",
   "execution_count": 67,
   "metadata": {},
   "outputs": [
    {
     "data": {
      "text/plain": [
       "0.8268815760017909"
      ]
     },
     "execution_count": 67,
     "metadata": {},
     "output_type": "execute_result"
    }
   ],
   "source": [
    "# f1_score for train data\n",
    "\n",
    "f1_score(labels_train, tree.predict(features_train))"
   ]
  },
  {
   "cell_type": "code",
   "execution_count": 68,
   "metadata": {},
   "outputs": [
    {
     "data": {
      "text/plain": [
       "0.7286399646498122"
      ]
     },
     "execution_count": 68,
     "metadata": {},
     "output_type": "execute_result"
    }
   ],
   "source": [
    "# precision score for train data\n",
    "\n",
    "precision_score(labels_train, tree.predict(features_train))"
   ]
  },
  {
   "cell_type": "markdown",
   "metadata": {},
   "source": [
    "As seen F1 score looks good and pecision is slightly better either. Let's see how we can tune the hyperparameters using AUC metrics visualization. AUC is a good way for evaluation for binary classification problems. First of all we will check `max_depth` hyperparameter. For tuning we will fit a decision tree with depths ranging from 1 to 50 and plot the training and test AUC scores."
   ]
  },
  {
   "cell_type": "code",
   "execution_count": 69,
   "metadata": {},
   "outputs": [
    {
     "data": {
      "image/png": "[encoded data removed]",
      "text/plain": [
       "<Figure size 720x288 with 1 Axes>"
      ]
     },
     "metadata": {},
     "output_type": "display_data"
    }
   ],
   "source": [
    "from sklearn.metrics import roc_curve, auc\n",
    "\n",
    "max_depths = np.linspace(1, 70, 70, endpoint=True)\n",
    "train_results = []\n",
    "test_results = []\n",
    "for max_depth in max_depths:\n",
    "    dt = DecisionTreeClassifier(max_depth=max_depth)\n",
    "    dt.fit(features_train, labels_train)\n",
    "    \n",
    "    train_pred = dt.predict(features_train)\n",
    "    false_positive_rate, true_positive_rate, thresholds = roc_curve(labels_train, train_pred)\n",
    "    roc_auc = auc(false_positive_rate, true_positive_rate)\n",
    "    # Add auc score to previous train results\n",
    "    train_results.append(roc_auc)\n",
    "    \n",
    "    labels_pred = dt.predict(features_test)\n",
    "    false_positive_rate, true_positive_rate, thresholds = roc_curve(labels_test, labels_pred)\n",
    "    roc_auc = auc(false_positive_rate, true_positive_rate)    \n",
    "    # Add auc score to previous test results\n",
    "    test_results.append(roc_auc)\n",
    "    \n",
    "line1, = plt.plot(max_depths, train_results, label='Train AUC')\n",
    "line2, = plt.plot(max_depths, test_results, label='Test AUC')\n",
    "plt.legend()\n",
    "plt.ylabel('AUC score')\n",
    "plt.xlabel('Tree depth')\n",
    "plt.show()"
   ]
  },
  {
   "cell_type": "markdown",
   "metadata": {},
   "source": [
    "We see that hyperparameter `depth_tree` greater 30 gives best AUC score for train and test data. The model succeds to generalize the findings for new data as well. Anyway AUC is still under 80%. Let's evaluate `min_samples_leaf` and `max_leaf_nodes` hyperparameters. We will use the same approach and metrics. The range of `min_samples_leaf` will be set from 1 to 30 and for `max_leaf_nodes` from 2 to 800."
   ]
  },
  {
   "cell_type": "code",
   "execution_count": 70,
   "metadata": {},
   "outputs": [
    {
     "data": {
      "image/png": "[encoded data removed]",
      "text/plain": [
       "<Figure size 720x288 with 1 Axes>"
      ]
     },
     "metadata": {},
     "output_type": "display_data"
    }
   ],
   "source": [
    "min_samples_leaves = np.arange(1, 30, 1)\n",
    "train_results = []\n",
    "test_results = []\n",
    "for min_samples_leaf in min_samples_leaves:\n",
    "    dt = DecisionTreeClassifier(min_samples_leaf=min_samples_leaf)\n",
    "    dt.fit(features_train, labels_train)\n",
    "    train_pred = dt.predict(features_train)\n",
    "    false_positive_rate, true_positive_rate, thresholds = roc_curve(labels_train, train_pred)\n",
    "    roc_auc = auc(false_positive_rate, true_positive_rate)\n",
    "    # Add auc score to previous train results\n",
    "    train_results.append(roc_auc)\n",
    "    labels_pred = dt.predict(features_test)\n",
    "    false_positive_rate, true_positive_rate, thresholds = roc_curve(labels_test, labels_pred)\n",
    "    roc_auc = auc(false_positive_rate, true_positive_rate)\n",
    "    # Add auc score to previous test results\n",
    "    test_results.append(roc_auc)\n",
    "    \n",
    "line1, = plt.plot(min_samples_leaves, train_results, label='Train AUC')\n",
    "line2, = plt.plot(min_samples_leaves, test_results, label='Test AUC')\n",
    "plt.legend()\n",
    "plt.ylabel('AUC score')\n",
    "plt.xlabel('Min samples leaf')\n",
    "plt.show()"
   ]
  },
  {
   "cell_type": "markdown",
   "metadata": {},
   "source": [
    "The best AUC score we get when `min_samples_leaf` has a low value (AUC is about 60%), AUC is dropping while increasing the number of leaves. Finally let's explore `max_leaf_nodes`."
   ]
  },
  {
   "cell_type": "code",
   "execution_count": 71,
   "metadata": {},
   "outputs": [
    {
     "data": {
      "image/png": "[encoded data removed]",
      "text/plain": [
       "<Figure size 720x288 with 1 Axes>"
      ]
     },
     "metadata": {},
     "output_type": "display_data"
    }
   ],
   "source": [
    "steps = np.arange(2, 1000, 50)\n",
    "train_results = []\n",
    "test_results = []\n",
    "for i in steps:\n",
    "    dt = DecisionTreeClassifier(max_leaf_nodes=i)\n",
    "    dt.fit(features_train, labels_train)\n",
    "    train_pred = dt.predict(features_train)\n",
    "    false_positive_rate, true_positive_rate, thresholds = roc_curve(labels_train, train_pred)\n",
    "    roc_auc = auc(false_positive_rate, true_positive_rate)\n",
    "    # Add auc score to previous train results\n",
    "    train_results.append(roc_auc)\n",
    "    labels_pred = dt.predict(features_test)\n",
    "    false_positive_rate, true_positive_rate, thresholds = roc_curve(labels_test, labels_pred)\n",
    "    roc_auc = auc(false_positive_rate, true_positive_rate)\n",
    "    # Add auc score to previous test results\n",
    "    test_results.append(roc_auc)\n",
    "    \n",
    "line1, = plt.plot(steps, train_results, label='Train AUC')\n",
    "line2, = plt.plot(steps, test_results, label='Test AUC')\n",
    "plt.legend()\n",
    "plt.ylabel('AUC score')\n",
    "plt.xlabel('Max leaf nodes')\n",
    "plt.show()"
   ]
  },
  {
   "cell_type": "markdown",
   "metadata": {},
   "source": [
    "We can clearly see that when we consider more than 300 of the samples for `max_leaf_nodes` we will get the best AUC score. But after 900 nodes there is nothing more that can be learnt from the data. Let's check what score we get using selected hyperparameters comparing to baseline score of decision tree model."
   ]
  },
  {
   "cell_type": "code",
   "execution_count": 73,
   "metadata": {},
   "outputs": [
    {
     "name": "stderr",
     "output_type": "stream",
     "text": [
      "C:\\Users\\anastasiy.slavova\\AppData\\Local\\Continuum\\anaconda3\\lib\\site-packages\\sklearn\\model_selection\\_split.py:1978: FutureWarning: The default value of cv will change from 3 to 5 in version 0.22. Specify it explicitly to silence this warning.\n",
      "  warnings.warn(CV_WARNING, FutureWarning)\n"
     ]
    },
    {
     "data": {
      "text/plain": [
       "GridSearchCV(cv='warn', error_score='raise-deprecating',\n",
       "             estimator=DecisionTreeClassifier(class_weight=None,\n",
       "                                              criterion='gini', max_depth=None,\n",
       "                                              max_features=None,\n",
       "                                              max_leaf_nodes=None,\n",
       "                                              min_impurity_decrease=0.0,\n",
       "                                              min_impurity_split=None,\n",
       "                                              min_samples_leaf=1,\n",
       "                                              min_samples_split=2,\n",
       "                                              min_weight_fraction_leaf=0.0,\n",
       "                                              presort=False, random_state=None,\n",
       "                                              splitter='best'),\n",
       "             iid='warn', n_jobs=None,\n",
       "             param_grid={'max_depth': [20, 30, 40],\n",
       "                         'max_leaf_nodes': [500, 700, 900],\n",
       "                         'min_samples_leaf': [1, 5, 10, 15]},\n",
       "             pre_dispatch='2*n_jobs', refit=True, return_train_score=False,\n",
       "             scoring='precision', verbose=0)"
      ]
     },
     "execution_count": 73,
     "metadata": {},
     "output_type": "execute_result"
    }
   ],
   "source": [
    "params = {\n",
    "    \"max_depth\": [20, 30, 40],\n",
    "    \"min_samples_leaf\": [1, 5, 10, 15],\n",
    "    \"max_leaf_nodes\": [500, 700, 900]\n",
    "}\n",
    "\n",
    "grid_search_tree = GridSearchCV(DecisionTreeClassifier(), params, scoring = 'precision')\n",
    "grid_search_tree.fit(features_train, labels_train)"
   ]
  },
  {
   "cell_type": "code",
   "execution_count": 74,
   "metadata": {},
   "outputs": [],
   "source": [
    "tree_classifier = grid_search_tree.best_estimator_"
   ]
  },
  {
   "cell_type": "code",
   "execution_count": 75,
   "metadata": {},
   "outputs": [
    {
     "name": "stdout",
     "output_type": "stream",
     "text": [
      "Decision tree precision score for train data: 0.7203528383920448\n"
     ]
    }
   ],
   "source": [
    "print(\"Decision tree precision score for train data:\", grid_search_tree.best_score_)"
   ]
  },
  {
   "cell_type": "code",
   "execution_count": 76,
   "metadata": {},
   "outputs": [
    {
     "name": "stdout",
     "output_type": "stream",
     "text": [
      "Decision tree F1 score for train data: 0.8269997675208783\n"
     ]
    }
   ],
   "source": [
    "print(\"Decision tree F1 score for train data:\", f1_score(labels_train, tree_classifier.predict(features_train)))"
   ]
  },
  {
   "cell_type": "code",
   "execution_count": 77,
   "metadata": {},
   "outputs": [
    {
     "data": {
      "text/plain": [
       "{'max_depth': 40, 'max_leaf_nodes': 900, 'min_samples_leaf': 1}"
      ]
     },
     "execution_count": 77,
     "metadata": {},
     "output_type": "execute_result"
    }
   ],
   "source": [
    "grid_search_tree.best_params_"
   ]
  },
  {
   "cell_type": "code",
   "execution_count": 78,
   "metadata": {},
   "outputs": [
    {
     "name": "stdout",
     "output_type": "stream",
     "text": [
      "              precision    recall  f1-score   support\n",
      "\n",
      "           0       0.94      0.64      0.76     48230\n",
      "           1       0.73      0.96      0.83     48309\n",
      "\n",
      "    accuracy                           0.80     96539\n",
      "   macro avg       0.83      0.80      0.79     96539\n",
      "weighted avg       0.83      0.80      0.79     96539\n",
      "\n"
     ]
    }
   ],
   "source": [
    "print(classification_report(labels_train,tree_classifier.predict(features_train)))"
   ]
  },
  {
   "cell_type": "markdown",
   "metadata": {},
   "source": [
    "As we see that the hyperparameters we selected using AUC are near to what we get using GridSearchCV with **Precision score**. The tuned model perfomance is slightly better than what we had using default desicion tree model hyperparameters but still is not enough. \n",
    "\n",
    "### 2.5 Train Adaboost\n",
    "\n",
    "AdaBoost classifier combines multiple classifiers to increase the accuracy of classifiers. AdaBoost is an iterative ensemble method. AdaBoost classifier builds a strong classifier by combining multiple poorly performing classifiers so that you will get high accuracy strong classifier.  Let's use AdaBoost with desicion tree classifier and its tuned hyperparameters."
   ]
  },
  {
   "cell_type": "code",
   "execution_count": 80,
   "metadata": {},
   "outputs": [],
   "source": [
    "Adaboost = AdaBoostClassifier(DecisionTreeClassifier(max_depth = 3), n_estimators = 50)"
   ]
  },
  {
   "cell_type": "code",
   "execution_count": 81,
   "metadata": {},
   "outputs": [
    {
     "data": {
      "text/plain": [
       "AdaBoostClassifier(algorithm='SAMME.R',\n",
       "                   base_estimator=DecisionTreeClassifier(class_weight=None,\n",
       "                                                         criterion='gini',\n",
       "                                                         max_depth=3,\n",
       "                                                         max_features=None,\n",
       "                                                         max_leaf_nodes=None,\n",
       "                                                         min_impurity_decrease=0.0,\n",
       "                                                         min_impurity_split=None,\n",
       "                                                         min_samples_leaf=1,\n",
       "                                                         min_samples_split=2,\n",
       "                                                         min_weight_fraction_leaf=0.0,\n",
       "                                                         presort=False,\n",
       "                                                         random_state=None,\n",
       "                                                         splitter='best'),\n",
       "                   learning_rate=1.0, n_estimators=50, random_state=None)"
      ]
     },
     "execution_count": 81,
     "metadata": {},
     "output_type": "execute_result"
    }
   ],
   "source": [
    "Adaboost.fit(features_train, labels_train)"
   ]
  },
  {
   "cell_type": "code",
   "execution_count": 82,
   "metadata": {},
   "outputs": [
    {
     "data": {
      "text/plain": [
       "0.7286399646498122"
      ]
     },
     "execution_count": 82,
     "metadata": {},
     "output_type": "execute_result"
    }
   ],
   "source": [
    "# precision score for train data\n",
    "\n",
    "precision_score(labels_train, tree.predict(features_train))"
   ]
  },
  {
   "cell_type": "code",
   "execution_count": 83,
   "metadata": {},
   "outputs": [
    {
     "data": {
      "text/plain": [
       "0.8198047618200893"
      ]
     },
     "execution_count": 83,
     "metadata": {},
     "output_type": "execute_result"
    }
   ],
   "source": [
    "# F1 score for train data\n",
    "\n",
    "f1_score(labels_train, Adaboost.predict(features_train))"
   ]
  },
  {
   "cell_type": "code",
   "execution_count": 92,
   "metadata": {},
   "outputs": [],
   "source": [
    "params = {\n",
    "    \"n_estimators\": [50, 100, 300],\n",
    "}\n",
    "\n",
    "grid_search_ada = GridSearchCV(AdaBoostClassifier(DecisionTreeClassifier(max_depth = 3)), params, scoring = 'precision')"
   ]
  },
  {
   "cell_type": "code",
   "execution_count": 93,
   "metadata": {},
   "outputs": [
    {
     "name": "stderr",
     "output_type": "stream",
     "text": [
      "C:\\Users\\anastasiy.slavova\\AppData\\Local\\Continuum\\anaconda3\\lib\\site-packages\\sklearn\\model_selection\\_split.py:1978: FutureWarning: The default value of cv will change from 3 to 5 in version 0.22. Specify it explicitly to silence this warning.\n",
      "  warnings.warn(CV_WARNING, FutureWarning)\n"
     ]
    },
    {
     "data": {
      "text/plain": [
       "GridSearchCV(cv='warn', error_score='raise-deprecating',\n",
       "             estimator=AdaBoostClassifier(algorithm='SAMME.R',\n",
       "                                          base_estimator=DecisionTreeClassifier(class_weight=None,\n",
       "                                                                                criterion='gini',\n",
       "                                                                                max_depth=3,\n",
       "                                                                                max_features=None,\n",
       "                                                                                max_leaf_nodes=None,\n",
       "                                                                                min_impurity_decrease=0.0,\n",
       "                                                                                min_impurity_split=None,\n",
       "                                                                                min_samples_leaf=1,\n",
       "                                                                                min_samples_split=2,\n",
       "                                                                                min_weight_fraction_leaf=0.0,\n",
       "                                                                                presort=False,\n",
       "                                                                                random_state=None,\n",
       "                                                                                splitter='best'),\n",
       "                                          learning_rate=1.0, n_estimators=50,\n",
       "                                          random_state=None),\n",
       "             iid='warn', n_jobs=None,\n",
       "             param_grid={'n_estimators': [50, 100, 300]},\n",
       "             pre_dispatch='2*n_jobs', refit=True, return_train_score=False,\n",
       "             scoring='precision', verbose=0)"
      ]
     },
     "execution_count": 93,
     "metadata": {},
     "output_type": "execute_result"
    }
   ],
   "source": [
    "grid_search_ada.fit(features_train, labels_train)"
   ]
  },
  {
   "cell_type": "code",
   "execution_count": 94,
   "metadata": {},
   "outputs": [],
   "source": [
    "ada_classifier = grid_search_ada.best_estimator_"
   ]
  },
  {
   "cell_type": "code",
   "execution_count": 95,
   "metadata": {},
   "outputs": [
    {
     "name": "stdout",
     "output_type": "stream",
     "text": [
      "AdaBoost precision score for train data: 0.7197643441244478\n"
     ]
    }
   ],
   "source": [
    "print(\"AdaBoost precision score for train data:\", grid_search_ada.best_score_)"
   ]
  },
  {
   "cell_type": "code",
   "execution_count": 96,
   "metadata": {},
   "outputs": [
    {
     "name": "stdout",
     "output_type": "stream",
     "text": [
      "AdaBoost F1 score for train data:: 0.8269997675208783\n"
     ]
    }
   ],
   "source": [
    "print(\"AdaBoost F1 score for train data::\", f1_score(labels_train, tree_classifier.predict(features_train)))"
   ]
  },
  {
   "cell_type": "code",
   "execution_count": 97,
   "metadata": {},
   "outputs": [
    {
     "data": {
      "text/plain": [
       "{'n_estimators': 300}"
      ]
     },
     "execution_count": 97,
     "metadata": {},
     "output_type": "execute_result"
    }
   ],
   "source": [
    "grid_search_ada.best_params_"
   ]
  },
  {
   "cell_type": "markdown",
   "metadata": {},
   "source": [
    "### 2.6 Compare the models on test data\n",
    "\n",
    "Finally we have three trained models and ready to evaluate their perfomance ot test data using precision metrics."
   ]
  },
  {
   "cell_type": "code",
   "execution_count": 98,
   "metadata": {},
   "outputs": [
    {
     "name": "stdout",
     "output_type": "stream",
     "text": [
      "Logistic regression precision score: 0.7036563849850946\n",
      "Decision tree precision score: 0.7152786474639949\n",
      "Adaboost precision score: 0.7146876758581879\n"
     ]
    }
   ],
   "source": [
    "logistic_regr_classifier_score = precision_score(labels_test, logistic_regr_classifier.predict(features_test))\n",
    "tree_classifier_score = precision_score(labels_test, tree_classifier.predict(features_test))\n",
    "adaboost_svm_classifier_score = precision_score(labels_test, ada_classifier.predict(features_test))\n",
    "\n",
    "print(\"Logistic regression precision score:\", logistic_regr_classifier_score)\n",
    "print(\"Decision tree precision score:\", tree_classifier_score)\n",
    "print(\"Adaboost precision score:\", adaboost_svm_classifier_score)"
   ]
  },
  {
   "cell_type": "markdown",
   "metadata": {},
   "source": [
    "Not high result we got here but anyway all the models have much better prefomance on clean and balanced data. The next step would be to train more complicated models like SVM in order to improve the precision score."
   ]
  },
  {
   "cell_type": "code",
   "execution_count": 99,
   "metadata": {},
   "outputs": [
    {
     "name": "stdout",
     "output_type": "stream",
     "text": [
      "              precision    recall  f1-score   support\n",
      "\n",
      "           0       0.93      0.62      0.75     12107\n",
      "           1       0.72      0.95      0.82     12028\n",
      "\n",
      "    accuracy                           0.79     24135\n",
      "   macro avg       0.82      0.79      0.78     24135\n",
      "weighted avg       0.82      0.79      0.78     24135\n",
      "\n"
     ]
    }
   ],
   "source": [
    "print(classification_report(labels_test, tree_classifier.predict(features_test)))"
   ]
  },
  {
   "cell_type": "markdown",
   "metadata": {},
   "source": [
    "In the framework of this project were implemented different kind of technics for preprocessing the data (over-sampling, feature selection, feature engineering, PCA, etc.). Also was implemented a fine tune of each classifier in order to get the best precision and F1 score. As a result, the precision is definitely improved (from 52% to 72%). \n",
    "\n",
    "\n",
    "# Rerefencies\n",
    "\n",
    "* [Loisville Animal Services](https://louisvilleky.gov/government/animal-services)\n",
    "* [Scikit learn](https://scikit-learn.org/)\n",
    "* [Fine tuning a classifier in scikit-learn](https://towardsdatascience.com/fine-tuning-a-classifier-in-scikit-learn-66e048c21e65) by Kevin Arvai\n",
    "* [How to Use ROC Curves and Precision-Recall Curves for Classification in Python](https://machinelearningmastery.com/roc-curves-and-precision-recall-curves-for-classification-in-python/), an article by by Jason Brownlee \n",
    "* [InDepth: Parameter tuning for Decision Tree](https://data.cityofnewyork.us/Health/NYC-Dog-Licensing-Dataset/nu7n-tubp) by Mohtadi Ben Fraj"
   ]
  }
 ],
 "metadata": {
  "kernelspec": {
   "display_name": "Python 3",
   "language": "python",
   "name": "python3"
  },
  "language_info": {
   "codemirror_mode": {
    "name": "ipython",
    "version": 3
   },
   "file_extension": ".py",
   "mimetype": "text/x-python",
   "name": "python",
   "nbconvert_exporter": "python",
   "pygments_lexer": "ipython3",
   "version": "3.7.3"
  }
 },
 "nbformat": 4,
 "nbformat_minor": 2
}
